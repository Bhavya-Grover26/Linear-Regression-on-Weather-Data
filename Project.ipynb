{
  "nbformat": 4,
  "nbformat_minor": 0,
  "metadata": {
    "colab": {
      "provenance": []
    },
    "kernelspec": {
      "name": "python3",
      "display_name": "Python 3"
    },
    "language_info": {
      "name": "python"
    }
  },
  "cells": [
    {
      "cell_type": "markdown",
      "source": [
        " **Weather Case Study**\n",
        "\n",
        "---\n",
        "\n",
        "We will analyse the weather data and find the linear relationship between Temperature and other factors of weather."
      ],
      "metadata": {
        "id": "AOTq4tPhFC18"
      }
    },
    {
      "cell_type": "code",
      "source": [
        "import numpy as np\n",
        "import pandas as pd\n",
        "import matplotlib.pyplot as plt\n",
        "import seaborn as sns\n",
        "import pylab\n",
        "#%matplotlib inline\n",
        "\n",
        "from scipy import stats\n",
        "import sklearn\n",
        "import statsmodels.api as sm\n",
        "from statsmodels.stats.outliers_influence import variance_inflation_factor\n",
        "from statsmodels.stats import diagnostic as diag\n",
        "from sklearn.linear_model import LinearRegression\n",
        "#import math"
      ],
      "metadata": {
        "id": "AZibp2M61zte"
      },
      "execution_count": null,
      "outputs": []
    },
    {
      "cell_type": "markdown",
      "source": [
        "Here Temperature_c is the dependent variable and we have\n",
        "7 independent variables"
      ],
      "metadata": {
        "id": "M6fOWoVGCkTh"
      }
    },
    {
      "cell_type": "code",
      "source": [
        "#reading the file\n",
        "df=pd.read_csv(r\"/content/weather.csv\")\n",
        "df.head()"
      ],
      "metadata": {
        "colab": {
          "base_uri": "https://localhost:8080/",
          "height": 270
        },
        "id": "t7YQYm7E16i2",
        "outputId": "0f7d8ef4-b994-4130-ad9c-2fa2c4a95bf0"
      },
      "execution_count": null,
      "outputs": [
        {
          "output_type": "execute_result",
          "data": {
            "text/plain": [
              "   Temperature_c  Humidity  Wind_Speed_kmh  Wind_Bearing_degrees  \\\n",
              "0      -0.555556      0.92         11.2700                   130   \n",
              "1      21.111111      0.73         20.9300                   330   \n",
              "2      16.600000      0.97          5.9731                   193   \n",
              "3       1.600000      0.82          3.2200                   300   \n",
              "4       2.194444      0.60         10.8836                   116   \n",
              "\n",
              "   Visibility_km  Pressure_millibars  Rain Description  \n",
              "0         8.0500             1021.60     0        Cold  \n",
              "1        16.1000             1017.00     1        Warm  \n",
              "2        14.9086             1013.99     1      Normal  \n",
              "3        16.1000             1031.59     1        Cold  \n",
              "4         9.9820             1020.88     1        Cold  "
            ],
            "text/html": [
              "\n",
              "  <div id=\"df-525f1a76-5935-40ab-a568-10164ae747e0\">\n",
              "    <div class=\"colab-df-container\">\n",
              "      <div>\n",
              "<style scoped>\n",
              "    .dataframe tbody tr th:only-of-type {\n",
              "        vertical-align: middle;\n",
              "    }\n",
              "\n",
              "    .dataframe tbody tr th {\n",
              "        vertical-align: top;\n",
              "    }\n",
              "\n",
              "    .dataframe thead th {\n",
              "        text-align: right;\n",
              "    }\n",
              "</style>\n",
              "<table border=\"1\" class=\"dataframe\">\n",
              "  <thead>\n",
              "    <tr style=\"text-align: right;\">\n",
              "      <th></th>\n",
              "      <th>Temperature_c</th>\n",
              "      <th>Humidity</th>\n",
              "      <th>Wind_Speed_kmh</th>\n",
              "      <th>Wind_Bearing_degrees</th>\n",
              "      <th>Visibility_km</th>\n",
              "      <th>Pressure_millibars</th>\n",
              "      <th>Rain</th>\n",
              "      <th>Description</th>\n",
              "    </tr>\n",
              "  </thead>\n",
              "  <tbody>\n",
              "    <tr>\n",
              "      <th>0</th>\n",
              "      <td>-0.555556</td>\n",
              "      <td>0.92</td>\n",
              "      <td>11.2700</td>\n",
              "      <td>130</td>\n",
              "      <td>8.0500</td>\n",
              "      <td>1021.60</td>\n",
              "      <td>0</td>\n",
              "      <td>Cold</td>\n",
              "    </tr>\n",
              "    <tr>\n",
              "      <th>1</th>\n",
              "      <td>21.111111</td>\n",
              "      <td>0.73</td>\n",
              "      <td>20.9300</td>\n",
              "      <td>330</td>\n",
              "      <td>16.1000</td>\n",
              "      <td>1017.00</td>\n",
              "      <td>1</td>\n",
              "      <td>Warm</td>\n",
              "    </tr>\n",
              "    <tr>\n",
              "      <th>2</th>\n",
              "      <td>16.600000</td>\n",
              "      <td>0.97</td>\n",
              "      <td>5.9731</td>\n",
              "      <td>193</td>\n",
              "      <td>14.9086</td>\n",
              "      <td>1013.99</td>\n",
              "      <td>1</td>\n",
              "      <td>Normal</td>\n",
              "    </tr>\n",
              "    <tr>\n",
              "      <th>3</th>\n",
              "      <td>1.600000</td>\n",
              "      <td>0.82</td>\n",
              "      <td>3.2200</td>\n",
              "      <td>300</td>\n",
              "      <td>16.1000</td>\n",
              "      <td>1031.59</td>\n",
              "      <td>1</td>\n",
              "      <td>Cold</td>\n",
              "    </tr>\n",
              "    <tr>\n",
              "      <th>4</th>\n",
              "      <td>2.194444</td>\n",
              "      <td>0.60</td>\n",
              "      <td>10.8836</td>\n",
              "      <td>116</td>\n",
              "      <td>9.9820</td>\n",
              "      <td>1020.88</td>\n",
              "      <td>1</td>\n",
              "      <td>Cold</td>\n",
              "    </tr>\n",
              "  </tbody>\n",
              "</table>\n",
              "</div>\n",
              "      <button class=\"colab-df-convert\" onclick=\"convertToInteractive('df-525f1a76-5935-40ab-a568-10164ae747e0')\"\n",
              "              title=\"Convert this dataframe to an interactive table.\"\n",
              "              style=\"display:none;\">\n",
              "        \n",
              "  <svg xmlns=\"http://www.w3.org/2000/svg\" height=\"24px\"viewBox=\"0 0 24 24\"\n",
              "       width=\"24px\">\n",
              "    <path d=\"M0 0h24v24H0V0z\" fill=\"none\"/>\n",
              "    <path d=\"M18.56 5.44l.94 2.06.94-2.06 2.06-.94-2.06-.94-.94-2.06-.94 2.06-2.06.94zm-11 1L8.5 8.5l.94-2.06 2.06-.94-2.06-.94L8.5 2.5l-.94 2.06-2.06.94zm10 10l.94 2.06.94-2.06 2.06-.94-2.06-.94-.94-2.06-.94 2.06-2.06.94z\"/><path d=\"M17.41 7.96l-1.37-1.37c-.4-.4-.92-.59-1.43-.59-.52 0-1.04.2-1.43.59L10.3 9.45l-7.72 7.72c-.78.78-.78 2.05 0 2.83L4 21.41c.39.39.9.59 1.41.59.51 0 1.02-.2 1.41-.59l7.78-7.78 2.81-2.81c.8-.78.8-2.07 0-2.86zM5.41 20L4 18.59l7.72-7.72 1.47 1.35L5.41 20z\"/>\n",
              "  </svg>\n",
              "      </button>\n",
              "      \n",
              "  <style>\n",
              "    .colab-df-container {\n",
              "      display:flex;\n",
              "      flex-wrap:wrap;\n",
              "      gap: 12px;\n",
              "    }\n",
              "\n",
              "    .colab-df-convert {\n",
              "      background-color: #E8F0FE;\n",
              "      border: none;\n",
              "      border-radius: 50%;\n",
              "      cursor: pointer;\n",
              "      display: none;\n",
              "      fill: #1967D2;\n",
              "      height: 32px;\n",
              "      padding: 0 0 0 0;\n",
              "      width: 32px;\n",
              "    }\n",
              "\n",
              "    .colab-df-convert:hover {\n",
              "      background-color: #E2EBFA;\n",
              "      box-shadow: 0px 1px 2px rgba(60, 64, 67, 0.3), 0px 1px 3px 1px rgba(60, 64, 67, 0.15);\n",
              "      fill: #174EA6;\n",
              "    }\n",
              "\n",
              "    [theme=dark] .colab-df-convert {\n",
              "      background-color: #3B4455;\n",
              "      fill: #D2E3FC;\n",
              "    }\n",
              "\n",
              "    [theme=dark] .colab-df-convert:hover {\n",
              "      background-color: #434B5C;\n",
              "      box-shadow: 0px 1px 3px 1px rgba(0, 0, 0, 0.15);\n",
              "      filter: drop-shadow(0px 1px 2px rgba(0, 0, 0, 0.3));\n",
              "      fill: #FFFFFF;\n",
              "    }\n",
              "  </style>\n",
              "\n",
              "      <script>\n",
              "        const buttonEl =\n",
              "          document.querySelector('#df-525f1a76-5935-40ab-a568-10164ae747e0 button.colab-df-convert');\n",
              "        buttonEl.style.display =\n",
              "          google.colab.kernel.accessAllowed ? 'block' : 'none';\n",
              "\n",
              "        async function convertToInteractive(key) {\n",
              "          const element = document.querySelector('#df-525f1a76-5935-40ab-a568-10164ae747e0');\n",
              "          const dataTable =\n",
              "            await google.colab.kernel.invokeFunction('convertToInteractive',\n",
              "                                                     [key], {});\n",
              "          if (!dataTable) return;\n",
              "\n",
              "          const docLinkHtml = 'Like what you see? Visit the ' +\n",
              "            '<a target=\"_blank\" href=https://colab.research.google.com/notebooks/data_table.ipynb>data table notebook</a>'\n",
              "            + ' to learn more about interactive tables.';\n",
              "          element.innerHTML = '';\n",
              "          dataTable['output_type'] = 'display_data';\n",
              "          await google.colab.output.renderOutput(dataTable, element);\n",
              "          const docLink = document.createElement('div');\n",
              "          docLink.innerHTML = docLinkHtml;\n",
              "          element.appendChild(docLink);\n",
              "        }\n",
              "      </script>\n",
              "    </div>\n",
              "  </div>\n",
              "  "
            ]
          },
          "metadata": {},
          "execution_count": 2
        }
      ]
    },
    {
      "cell_type": "markdown",
      "source": [
        "**Assumptions of Multiple Linear Regression**\n",
        "\n",
        "1.Absence of multicollinearity\n",
        "\n",
        "2.A linear relationship is assumed between dependent and independent variables.\n",
        "\n",
        "3.Regression residuals must be normally distributed.\n",
        "\n",
        "4.Residuals are homoskedastic (error terms are constant)\n",
        "\n",
        "5.No autocorrelation of the residuals"
      ],
      "metadata": {
        "id": "Io45Xoth2k-k"
      }
    },
    {
      "cell_type": "code",
      "source": [
        "df.dtypes"
      ],
      "metadata": {
        "colab": {
          "base_uri": "https://localhost:8080/"
        },
        "id": "-D8AUH3z3J1e",
        "outputId": "f5d407d4-4596-4bc0-b0f0-aadfeb7f1598"
      },
      "execution_count": null,
      "outputs": [
        {
          "output_type": "execute_result",
          "data": {
            "text/plain": [
              "Temperature_c           float64\n",
              "Humidity                float64\n",
              "Wind_Speed_kmh          float64\n",
              "Wind_Bearing_degrees      int64\n",
              "Visibility_km           float64\n",
              "Pressure_millibars      float64\n",
              "Rain                      int64\n",
              "Description              object\n",
              "dtype: object"
            ]
          },
          "metadata": {},
          "execution_count": 3
        }
      ]
    },
    {
      "cell_type": "code",
      "source": [
        "#Converting the values in Description such that 0 is Cold, 1 is Normal and 2 is warm\n",
        "desc=df[\"Description\"]\n",
        "desc\n",
        "df['Description'] = df['Description'].replace({'Cold': 0})\n",
        "df['Description'] = df['Description'].replace({'Normal': 1})\n",
        "df['Description'] = df['Description'].replace({'Warm': 2})\n",
        "desc"
      ],
      "metadata": {
        "colab": {
          "base_uri": "https://localhost:8080/"
        },
        "id": "8tuExpbr2rxE",
        "outputId": "a41681cf-b547-41c1-85f6-1056d7cbf1c6"
      },
      "execution_count": null,
      "outputs": [
        {
          "output_type": "execute_result",
          "data": {
            "text/plain": [
              "0       0\n",
              "1       2\n",
              "2       1\n",
              "3       0\n",
              "4       0\n",
              "       ..\n",
              "9995    1\n",
              "9996    1\n",
              "9997    1\n",
              "9998    1\n",
              "9999    1\n",
              "Name: Description, Length: 10000, dtype: int64"
            ]
          },
          "metadata": {},
          "execution_count": 5
        }
      ]
    },
    {
      "cell_type": "code",
      "source": [
        "df.dtypes"
      ],
      "metadata": {
        "colab": {
          "base_uri": "https://localhost:8080/"
        },
        "id": "T6AVSbBI0snG",
        "outputId": "fe9c3124-8386-4de5-8a84-ca764418a7c3"
      },
      "execution_count": null,
      "outputs": [
        {
          "output_type": "execute_result",
          "data": {
            "text/plain": [
              "Temperature_c           float64\n",
              "Humidity                float64\n",
              "Wind_Speed_kmh          float64\n",
              "Wind_Bearing_degrees      int64\n",
              "Visibility_km           float64\n",
              "Pressure_millibars      float64\n",
              "Rain                      int64\n",
              "Description               int64\n",
              "dtype: object"
            ]
          },
          "metadata": {},
          "execution_count": 6
        }
      ]
    },
    {
      "cell_type": "code",
      "source": [
        "#setting all datatypes of dataframe to float\n",
        "df=df.astype(float)\n",
        "df.dtypes"
      ],
      "metadata": {
        "colab": {
          "base_uri": "https://localhost:8080/"
        },
        "id": "K_JyNuMI08Vw",
        "outputId": "8e953419-12c4-4825-f43a-1b5d7a0b0e83"
      },
      "execution_count": null,
      "outputs": [
        {
          "output_type": "execute_result",
          "data": {
            "text/plain": [
              "Temperature_c           float64\n",
              "Humidity                float64\n",
              "Wind_Speed_kmh          float64\n",
              "Wind_Bearing_degrees    float64\n",
              "Visibility_km           float64\n",
              "Pressure_millibars      float64\n",
              "Rain                    float64\n",
              "Description             float64\n",
              "dtype: object"
            ]
          },
          "metadata": {},
          "execution_count": 7
        }
      ]
    },
    {
      "cell_type": "code",
      "source": [
        "# Checking the missing values\n",
        "df.isnull().sum()"
      ],
      "metadata": {
        "colab": {
          "base_uri": "https://localhost:8080/"
        },
        "id": "czEOPbVv2tY8",
        "outputId": "40466c2e-7472-4b12-fa9f-53f6ed0d9d43"
      },
      "execution_count": null,
      "outputs": [
        {
          "output_type": "execute_result",
          "data": {
            "text/plain": [
              "Temperature_c           0\n",
              "Humidity                0\n",
              "Wind_Speed_kmh          0\n",
              "Wind_Bearing_degrees    0\n",
              "Visibility_km           0\n",
              "Pressure_millibars      0\n",
              "Rain                    0\n",
              "Description             0\n",
              "dtype: int64"
            ]
          },
          "metadata": {},
          "execution_count": 8
        }
      ]
    },
    {
      "cell_type": "markdown",
      "source": [
        "**1] Checking multicollinearity in the data**\n",
        "\n",
        "Multicollinearity means variables are behaving so similarly that it is not possible to identify which variable has hat impact on the model.\n",
        "\n",
        "Can be tested using Correlation matrix, Tolerance and Variance Inflation Factor (VIF)"
      ],
      "metadata": {
        "id": "hQ19sHZQ25V0"
      }
    },
    {
      "cell_type": "markdown",
      "source": [
        "Among all independent variables the correlation coefficients need to be smaller than 1."
      ],
      "metadata": {
        "id": "dW2uVIo1Epk6"
      }
    },
    {
      "cell_type": "code",
      "source": [
        "#print correlation matrix of our dataframe\n",
        "corr=df.corr()\n",
        "display(corr)"
      ],
      "metadata": {
        "colab": {
          "base_uri": "https://localhost:8080/",
          "height": 364
        },
        "id": "oXXj6H0H207H",
        "outputId": "2b6a8dc3-4562-4096-870e-b735d49d375c"
      },
      "execution_count": null,
      "outputs": [
        {
          "output_type": "display_data",
          "data": {
            "text/plain": [
              "                      Temperature_c  Humidity  Wind_Speed_kmh  \\\n",
              "Temperature_c              1.000000 -0.628855        0.009768   \n",
              "Humidity                  -0.628855  1.000000       -0.222959   \n",
              "Wind_Speed_kmh             0.009768 -0.222959        1.000000   \n",
              "Wind_Bearing_degrees       0.031397 -0.007522        0.108276   \n",
              "Visibility_km              0.389466 -0.375676        0.100525   \n",
              "Pressure_millibars         0.013739 -0.011228       -0.051067   \n",
              "Rain                       0.557795 -0.225116        0.067543   \n",
              "Description                0.907204 -0.580732        0.019290   \n",
              "\n",
              "                      Wind_Bearing_degrees  Visibility_km  Pressure_millibars  \\\n",
              "Temperature_c                     0.031397       0.389466            0.013739   \n",
              "Humidity                         -0.007522      -0.375676           -0.011228   \n",
              "Wind_Speed_kmh                    0.108276       0.100525           -0.051067   \n",
              "Wind_Bearing_degrees              1.000000       0.052080           -0.005597   \n",
              "Visibility_km                     0.052080       1.000000            0.066663   \n",
              "Pressure_millibars               -0.005597       0.066663            1.000000   \n",
              "Rain                              0.048564       0.302374            0.004147   \n",
              "Description                       0.024317       0.361270            0.008992   \n",
              "\n",
              "                          Rain  Description  \n",
              "Temperature_c         0.557795     0.907204  \n",
              "Humidity             -0.225116    -0.580732  \n",
              "Wind_Speed_kmh        0.067543     0.019290  \n",
              "Wind_Bearing_degrees  0.048564     0.024317  \n",
              "Visibility_km         0.302374     0.361270  \n",
              "Pressure_millibars    0.004147     0.008992  \n",
              "Rain                  1.000000     0.494032  \n",
              "Description           0.494032     1.000000  "
            ],
            "text/html": [
              "\n",
              "  <div id=\"df-f456a5d7-6a30-41a5-99cf-50bcd89cdadd\">\n",
              "    <div class=\"colab-df-container\">\n",
              "      <div>\n",
              "<style scoped>\n",
              "    .dataframe tbody tr th:only-of-type {\n",
              "        vertical-align: middle;\n",
              "    }\n",
              "\n",
              "    .dataframe tbody tr th {\n",
              "        vertical-align: top;\n",
              "    }\n",
              "\n",
              "    .dataframe thead th {\n",
              "        text-align: right;\n",
              "    }\n",
              "</style>\n",
              "<table border=\"1\" class=\"dataframe\">\n",
              "  <thead>\n",
              "    <tr style=\"text-align: right;\">\n",
              "      <th></th>\n",
              "      <th>Temperature_c</th>\n",
              "      <th>Humidity</th>\n",
              "      <th>Wind_Speed_kmh</th>\n",
              "      <th>Wind_Bearing_degrees</th>\n",
              "      <th>Visibility_km</th>\n",
              "      <th>Pressure_millibars</th>\n",
              "      <th>Rain</th>\n",
              "      <th>Description</th>\n",
              "    </tr>\n",
              "  </thead>\n",
              "  <tbody>\n",
              "    <tr>\n",
              "      <th>Temperature_c</th>\n",
              "      <td>1.000000</td>\n",
              "      <td>-0.628855</td>\n",
              "      <td>0.009768</td>\n",
              "      <td>0.031397</td>\n",
              "      <td>0.389466</td>\n",
              "      <td>0.013739</td>\n",
              "      <td>0.557795</td>\n",
              "      <td>0.907204</td>\n",
              "    </tr>\n",
              "    <tr>\n",
              "      <th>Humidity</th>\n",
              "      <td>-0.628855</td>\n",
              "      <td>1.000000</td>\n",
              "      <td>-0.222959</td>\n",
              "      <td>-0.007522</td>\n",
              "      <td>-0.375676</td>\n",
              "      <td>-0.011228</td>\n",
              "      <td>-0.225116</td>\n",
              "      <td>-0.580732</td>\n",
              "    </tr>\n",
              "    <tr>\n",
              "      <th>Wind_Speed_kmh</th>\n",
              "      <td>0.009768</td>\n",
              "      <td>-0.222959</td>\n",
              "      <td>1.000000</td>\n",
              "      <td>0.108276</td>\n",
              "      <td>0.100525</td>\n",
              "      <td>-0.051067</td>\n",
              "      <td>0.067543</td>\n",
              "      <td>0.019290</td>\n",
              "    </tr>\n",
              "    <tr>\n",
              "      <th>Wind_Bearing_degrees</th>\n",
              "      <td>0.031397</td>\n",
              "      <td>-0.007522</td>\n",
              "      <td>0.108276</td>\n",
              "      <td>1.000000</td>\n",
              "      <td>0.052080</td>\n",
              "      <td>-0.005597</td>\n",
              "      <td>0.048564</td>\n",
              "      <td>0.024317</td>\n",
              "    </tr>\n",
              "    <tr>\n",
              "      <th>Visibility_km</th>\n",
              "      <td>0.389466</td>\n",
              "      <td>-0.375676</td>\n",
              "      <td>0.100525</td>\n",
              "      <td>0.052080</td>\n",
              "      <td>1.000000</td>\n",
              "      <td>0.066663</td>\n",
              "      <td>0.302374</td>\n",
              "      <td>0.361270</td>\n",
              "    </tr>\n",
              "    <tr>\n",
              "      <th>Pressure_millibars</th>\n",
              "      <td>0.013739</td>\n",
              "      <td>-0.011228</td>\n",
              "      <td>-0.051067</td>\n",
              "      <td>-0.005597</td>\n",
              "      <td>0.066663</td>\n",
              "      <td>1.000000</td>\n",
              "      <td>0.004147</td>\n",
              "      <td>0.008992</td>\n",
              "    </tr>\n",
              "    <tr>\n",
              "      <th>Rain</th>\n",
              "      <td>0.557795</td>\n",
              "      <td>-0.225116</td>\n",
              "      <td>0.067543</td>\n",
              "      <td>0.048564</td>\n",
              "      <td>0.302374</td>\n",
              "      <td>0.004147</td>\n",
              "      <td>1.000000</td>\n",
              "      <td>0.494032</td>\n",
              "    </tr>\n",
              "    <tr>\n",
              "      <th>Description</th>\n",
              "      <td>0.907204</td>\n",
              "      <td>-0.580732</td>\n",
              "      <td>0.019290</td>\n",
              "      <td>0.024317</td>\n",
              "      <td>0.361270</td>\n",
              "      <td>0.008992</td>\n",
              "      <td>0.494032</td>\n",
              "      <td>1.000000</td>\n",
              "    </tr>\n",
              "  </tbody>\n",
              "</table>\n",
              "</div>\n",
              "      <button class=\"colab-df-convert\" onclick=\"convertToInteractive('df-f456a5d7-6a30-41a5-99cf-50bcd89cdadd')\"\n",
              "              title=\"Convert this dataframe to an interactive table.\"\n",
              "              style=\"display:none;\">\n",
              "        \n",
              "  <svg xmlns=\"http://www.w3.org/2000/svg\" height=\"24px\"viewBox=\"0 0 24 24\"\n",
              "       width=\"24px\">\n",
              "    <path d=\"M0 0h24v24H0V0z\" fill=\"none\"/>\n",
              "    <path d=\"M18.56 5.44l.94 2.06.94-2.06 2.06-.94-2.06-.94-.94-2.06-.94 2.06-2.06.94zm-11 1L8.5 8.5l.94-2.06 2.06-.94-2.06-.94L8.5 2.5l-.94 2.06-2.06.94zm10 10l.94 2.06.94-2.06 2.06-.94-2.06-.94-.94-2.06-.94 2.06-2.06.94z\"/><path d=\"M17.41 7.96l-1.37-1.37c-.4-.4-.92-.59-1.43-.59-.52 0-1.04.2-1.43.59L10.3 9.45l-7.72 7.72c-.78.78-.78 2.05 0 2.83L4 21.41c.39.39.9.59 1.41.59.51 0 1.02-.2 1.41-.59l7.78-7.78 2.81-2.81c.8-.78.8-2.07 0-2.86zM5.41 20L4 18.59l7.72-7.72 1.47 1.35L5.41 20z\"/>\n",
              "  </svg>\n",
              "      </button>\n",
              "      \n",
              "  <style>\n",
              "    .colab-df-container {\n",
              "      display:flex;\n",
              "      flex-wrap:wrap;\n",
              "      gap: 12px;\n",
              "    }\n",
              "\n",
              "    .colab-df-convert {\n",
              "      background-color: #E8F0FE;\n",
              "      border: none;\n",
              "      border-radius: 50%;\n",
              "      cursor: pointer;\n",
              "      display: none;\n",
              "      fill: #1967D2;\n",
              "      height: 32px;\n",
              "      padding: 0 0 0 0;\n",
              "      width: 32px;\n",
              "    }\n",
              "\n",
              "    .colab-df-convert:hover {\n",
              "      background-color: #E2EBFA;\n",
              "      box-shadow: 0px 1px 2px rgba(60, 64, 67, 0.3), 0px 1px 3px 1px rgba(60, 64, 67, 0.15);\n",
              "      fill: #174EA6;\n",
              "    }\n",
              "\n",
              "    [theme=dark] .colab-df-convert {\n",
              "      background-color: #3B4455;\n",
              "      fill: #D2E3FC;\n",
              "    }\n",
              "\n",
              "    [theme=dark] .colab-df-convert:hover {\n",
              "      background-color: #434B5C;\n",
              "      box-shadow: 0px 1px 3px 1px rgba(0, 0, 0, 0.15);\n",
              "      filter: drop-shadow(0px 1px 2px rgba(0, 0, 0, 0.3));\n",
              "      fill: #FFFFFF;\n",
              "    }\n",
              "  </style>\n",
              "\n",
              "      <script>\n",
              "        const buttonEl =\n",
              "          document.querySelector('#df-f456a5d7-6a30-41a5-99cf-50bcd89cdadd button.colab-df-convert');\n",
              "        buttonEl.style.display =\n",
              "          google.colab.kernel.accessAllowed ? 'block' : 'none';\n",
              "\n",
              "        async function convertToInteractive(key) {\n",
              "          const element = document.querySelector('#df-f456a5d7-6a30-41a5-99cf-50bcd89cdadd');\n",
              "          const dataTable =\n",
              "            await google.colab.kernel.invokeFunction('convertToInteractive',\n",
              "                                                     [key], {});\n",
              "          if (!dataTable) return;\n",
              "\n",
              "          const docLinkHtml = 'Like what you see? Visit the ' +\n",
              "            '<a target=\"_blank\" href=https://colab.research.google.com/notebooks/data_table.ipynb>data table notebook</a>'\n",
              "            + ' to learn more about interactive tables.';\n",
              "          element.innerHTML = '';\n",
              "          dataTable['output_type'] = 'display_data';\n",
              "          await google.colab.output.renderOutput(dataTable, element);\n",
              "          const docLink = document.createElement('div');\n",
              "          docLink.innerHTML = docLinkHtml;\n",
              "          element.appendChild(docLink);\n",
              "        }\n",
              "      </script>\n",
              "    </div>\n",
              "  </div>\n",
              "  "
            ]
          },
          "metadata": {}
        }
      ]
    },
    {
      "cell_type": "markdown",
      "source": [
        "Plotting heat map: heat map gives the idea about correlation of variables in the dataset.\n",
        "\n",
        "Diagonally we should have a dark colour which shows perfect correlation."
      ],
      "metadata": {
        "id": "odBqxw_dFu5C"
      }
    },
    {
      "cell_type": "code",
      "source": [
        "#plot a heat map\n",
        "sns.heatmap(corr,xticklabels=corr.columns,yticklabels=corr.columns,annot = True , cmap=\"GnBu\")"
      ],
      "metadata": {
        "colab": {
          "base_uri": "https://localhost:8080/",
          "height": 391
        },
        "id": "MSKkcHx32_cU",
        "outputId": "e58b0150-51fb-4ebf-e1f3-0e0755101ff7"
      },
      "execution_count": null,
      "outputs": [
        {
          "output_type": "execute_result",
          "data": {
            "text/plain": [
              "<matplotlib.axes._subplots.AxesSubplot at 0x7f378a5facd0>"
            ]
          },
          "metadata": {},
          "execution_count": 10
        },
        {
          "output_type": "display_data",
          "data": {
            "text/plain": [
              "<Figure size 432x288 with 2 Axes>"
            ],
            "image/png": "[encoded data removed]"
          },
          "metadata": {
            "needs_background": "light"
          }
        }
      ]
    },
    {
      "cell_type": "markdown",
      "source": [
        "If VIF>=5 for variables, then they should be removed from the model as it means there is an indication that multicollinearity may be present"
      ],
      "metadata": {
        "id": "1RdsBlm23JXP"
      }
    },
    {
      "cell_type": "code",
      "source": [
        "df_new = df.iloc[:, 0:14]\n",
        "vif_data = pd.DataFrame()\n",
        "vif_data[\"feature\"] = df_new.columns\n",
        "\n",
        "# calculating VIF for each feature\n",
        "vif_data[\"VIF\"] = [variance_inflation_factor(df_new.values, i)\n",
        "                          for i in range(len(df_new.columns))]\n",
        "\n",
        "print(vif_data)"
      ],
      "metadata": {
        "colab": {
          "base_uri": "https://localhost:8080/"
        },
        "id": "g0ALPinL0Hry",
        "outputId": "9809d9b0-ac09-428b-dc86-d431254cb31b"
      },
      "execution_count": null,
      "outputs": [
        {
          "output_type": "stream",
          "name": "stdout",
          "text": [
            "                feature        VIF\n",
            "0         Temperature_c  18.162166\n",
            "1              Humidity  20.807962\n",
            "2        Wind_Speed_kmh   3.529187\n",
            "3  Wind_Bearing_degrees   4.028013\n",
            "4         Visibility_km   8.693928\n",
            "5    Pressure_millibars  35.463173\n",
            "6                  Rain  14.414691\n",
            "7           Description  16.904540\n"
          ]
        }
      ]
    },
    {
      "cell_type": "markdown",
      "source": [
        "From output, we observe that most have have high VIF (>5)\n",
        "\n",
        "So, we drop column 'Pressure_millibars'"
      ],
      "metadata": {
        "id": "umBuQvA90-CE"
      }
    },
    {
      "cell_type": "code",
      "source": [
        "df_after= df_new.drop('Pressure_millibars',axis=1)\n",
        "\n",
        "# For each X, calculate VIF and save in dataframe\n",
        "vif1 = pd.DataFrame()\n",
        "vif1[\"VIF Factor\"] = [variance_inflation_factor(df_after.values, i) for i in range(df_after.shape[1])]\n",
        "vif1[\"features\"] = df_after.columns\n",
        "\n",
        "display(vif1)"
      ],
      "metadata": {
        "colab": {
          "base_uri": "https://localhost:8080/",
          "height": 269
        },
        "id": "ciTMmYb81QJl",
        "outputId": "9e9fc752-9d9b-4793-fdd5-6bfd4594969f"
      },
      "execution_count": null,
      "outputs": [
        {
          "output_type": "display_data",
          "data": {
            "text/plain": [
              "   VIF Factor              features\n",
              "0   17.846542         Temperature_c\n",
              "1    8.405552              Humidity\n",
              "2    3.296121        Wind_Speed_kmh\n",
              "3    3.981074  Wind_Bearing_degrees\n",
              "4    7.680401         Visibility_km\n",
              "5   14.366918                  Rain\n",
              "6   16.814139           Description"
            ],
            "text/html": [
              "\n",
              "  <div id=\"df-97ba5b77-0a83-44e4-b33f-7d98706b9b65\">\n",
              "    <div class=\"colab-df-container\">\n",
              "      <div>\n",
              "<style scoped>\n",
              "    .dataframe tbody tr th:only-of-type {\n",
              "        vertical-align: middle;\n",
              "    }\n",
              "\n",
              "    .dataframe tbody tr th {\n",
              "        vertical-align: top;\n",
              "    }\n",
              "\n",
              "    .dataframe thead th {\n",
              "        text-align: right;\n",
              "    }\n",
              "</style>\n",
              "<table border=\"1\" class=\"dataframe\">\n",
              "  <thead>\n",
              "    <tr style=\"text-align: right;\">\n",
              "      <th></th>\n",
              "      <th>VIF Factor</th>\n",
              "      <th>features</th>\n",
              "    </tr>\n",
              "  </thead>\n",
              "  <tbody>\n",
              "    <tr>\n",
              "      <th>0</th>\n",
              "      <td>17.846542</td>\n",
              "      <td>Temperature_c</td>\n",
              "    </tr>\n",
              "    <tr>\n",
              "      <th>1</th>\n",
              "      <td>8.405552</td>\n",
              "      <td>Humidity</td>\n",
              "    </tr>\n",
              "    <tr>\n",
              "      <th>2</th>\n",
              "      <td>3.296121</td>\n",
              "      <td>Wind_Speed_kmh</td>\n",
              "    </tr>\n",
              "    <tr>\n",
              "      <th>3</th>\n",
              "      <td>3.981074</td>\n",
              "      <td>Wind_Bearing_degrees</td>\n",
              "    </tr>\n",
              "    <tr>\n",
              "      <th>4</th>\n",
              "      <td>7.680401</td>\n",
              "      <td>Visibility_km</td>\n",
              "    </tr>\n",
              "    <tr>\n",
              "      <th>5</th>\n",
              "      <td>14.366918</td>\n",
              "      <td>Rain</td>\n",
              "    </tr>\n",
              "    <tr>\n",
              "      <th>6</th>\n",
              "      <td>16.814139</td>\n",
              "      <td>Description</td>\n",
              "    </tr>\n",
              "  </tbody>\n",
              "</table>\n",
              "</div>\n",
              "      <button class=\"colab-df-convert\" onclick=\"convertToInteractive('df-97ba5b77-0a83-44e4-b33f-7d98706b9b65')\"\n",
              "              title=\"Convert this dataframe to an interactive table.\"\n",
              "              style=\"display:none;\">\n",
              "        \n",
              "  <svg xmlns=\"http://www.w3.org/2000/svg\" height=\"24px\"viewBox=\"0 0 24 24\"\n",
              "       width=\"24px\">\n",
              "    <path d=\"M0 0h24v24H0V0z\" fill=\"none\"/>\n",
              "    <path d=\"M18.56 5.44l.94 2.06.94-2.06 2.06-.94-2.06-.94-.94-2.06-.94 2.06-2.06.94zm-11 1L8.5 8.5l.94-2.06 2.06-.94-2.06-.94L8.5 2.5l-.94 2.06-2.06.94zm10 10l.94 2.06.94-2.06 2.06-.94-2.06-.94-.94-2.06-.94 2.06-2.06.94z\"/><path d=\"M17.41 7.96l-1.37-1.37c-.4-.4-.92-.59-1.43-.59-.52 0-1.04.2-1.43.59L10.3 9.45l-7.72 7.72c-.78.78-.78 2.05 0 2.83L4 21.41c.39.39.9.59 1.41.59.51 0 1.02-.2 1.41-.59l7.78-7.78 2.81-2.81c.8-.78.8-2.07 0-2.86zM5.41 20L4 18.59l7.72-7.72 1.47 1.35L5.41 20z\"/>\n",
              "  </svg>\n",
              "      </button>\n",
              "      \n",
              "  <style>\n",
              "    .colab-df-container {\n",
              "      display:flex;\n",
              "      flex-wrap:wrap;\n",
              "      gap: 12px;\n",
              "    }\n",
              "\n",
              "    .colab-df-convert {\n",
              "      background-color: #E8F0FE;\n",
              "      border: none;\n",
              "      border-radius: 50%;\n",
              "      cursor: pointer;\n",
              "      display: none;\n",
              "      fill: #1967D2;\n",
              "      height: 32px;\n",
              "      padding: 0 0 0 0;\n",
              "      width: 32px;\n",
              "    }\n",
              "\n",
              "    .colab-df-convert:hover {\n",
              "      background-color: #E2EBFA;\n",
              "      box-shadow: 0px 1px 2px rgba(60, 64, 67, 0.3), 0px 1px 3px 1px rgba(60, 64, 67, 0.15);\n",
              "      fill: #174EA6;\n",
              "    }\n",
              "\n",
              "    [theme=dark] .colab-df-convert {\n",
              "      background-color: #3B4455;\n",
              "      fill: #D2E3FC;\n",
              "    }\n",
              "\n",
              "    [theme=dark] .colab-df-convert:hover {\n",
              "      background-color: #434B5C;\n",
              "      box-shadow: 0px 1px 3px 1px rgba(0, 0, 0, 0.15);\n",
              "      filter: drop-shadow(0px 1px 2px rgba(0, 0, 0, 0.3));\n",
              "      fill: #FFFFFF;\n",
              "    }\n",
              "  </style>\n",
              "\n",
              "      <script>\n",
              "        const buttonEl =\n",
              "          document.querySelector('#df-97ba5b77-0a83-44e4-b33f-7d98706b9b65 button.colab-df-convert');\n",
              "        buttonEl.style.display =\n",
              "          google.colab.kernel.accessAllowed ? 'block' : 'none';\n",
              "\n",
              "        async function convertToInteractive(key) {\n",
              "          const element = document.querySelector('#df-97ba5b77-0a83-44e4-b33f-7d98706b9b65');\n",
              "          const dataTable =\n",
              "            await google.colab.kernel.invokeFunction('convertToInteractive',\n",
              "                                                     [key], {});\n",
              "          if (!dataTable) return;\n",
              "\n",
              "          const docLinkHtml = 'Like what you see? Visit the ' +\n",
              "            '<a target=\"_blank\" href=https://colab.research.google.com/notebooks/data_table.ipynb>data table notebook</a>'\n",
              "            + ' to learn more about interactive tables.';\n",
              "          element.innerHTML = '';\n",
              "          dataTable['output_type'] = 'display_data';\n",
              "          await google.colab.output.renderOutput(dataTable, element);\n",
              "          const docLink = document.createElement('div');\n",
              "          docLink.innerHTML = docLinkHtml;\n",
              "          element.appendChild(docLink);\n",
              "        }\n",
              "      </script>\n",
              "    </div>\n",
              "  </div>\n",
              "  "
            ]
          },
          "metadata": {}
        }
      ]
    },
    {
      "cell_type": "markdown",
      "source": [
        "VIF>5 so, we drop column 'Temperature_c'"
      ],
      "metadata": {
        "id": "4b8QnaOsGBUW"
      }
    },
    {
      "cell_type": "code",
      "source": [
        "df_after= df_after.drop('Temperature_c',axis=1)\n",
        "# For each X, calculate VIF and save in dataframe\n",
        "vif1 = pd.DataFrame()\n",
        "vif1[\"VIF Factor\"] = [variance_inflation_factor(df_after.values, i) for i in range(df_after.shape[1])]\n",
        "vif1[\"features\"] = df_after.columns\n",
        "\n",
        "display(vif1)"
      ],
      "metadata": {
        "colab": {
          "base_uri": "https://localhost:8080/",
          "height": 237
        },
        "id": "SgIyZDxG1eQ6",
        "outputId": "d4db67b3-ba7f-43f3-9b37-39906802562f"
      },
      "execution_count": null,
      "outputs": [
        {
          "output_type": "display_data",
          "data": {
            "text/plain": [
              "   VIF Factor              features\n",
              "0    7.104280              Humidity\n",
              "1    3.267190        Wind_Speed_kmh\n",
              "2    3.970047  Wind_Bearing_degrees\n",
              "3    7.568575         Visibility_km\n",
              "4   12.460492                  Rain\n",
              "5    4.937373           Description"
            ],
            "text/html": [
              "\n",
              "  <div id=\"df-5a3d619a-ab2a-48a5-adfd-2d685f15c065\">\n",
              "    <div class=\"colab-df-container\">\n",
              "      <div>\n",
              "<style scoped>\n",
              "    .dataframe tbody tr th:only-of-type {\n",
              "        vertical-align: middle;\n",
              "    }\n",
              "\n",
              "    .dataframe tbody tr th {\n",
              "        vertical-align: top;\n",
              "    }\n",
              "\n",
              "    .dataframe thead th {\n",
              "        text-align: right;\n",
              "    }\n",
              "</style>\n",
              "<table border=\"1\" class=\"dataframe\">\n",
              "  <thead>\n",
              "    <tr style=\"text-align: right;\">\n",
              "      <th></th>\n",
              "      <th>VIF Factor</th>\n",
              "      <th>features</th>\n",
              "    </tr>\n",
              "  </thead>\n",
              "  <tbody>\n",
              "    <tr>\n",
              "      <th>0</th>\n",
              "      <td>7.104280</td>\n",
              "      <td>Humidity</td>\n",
              "    </tr>\n",
              "    <tr>\n",
              "      <th>1</th>\n",
              "      <td>3.267190</td>\n",
              "      <td>Wind_Speed_kmh</td>\n",
              "    </tr>\n",
              "    <tr>\n",
              "      <th>2</th>\n",
              "      <td>3.970047</td>\n",
              "      <td>Wind_Bearing_degrees</td>\n",
              "    </tr>\n",
              "    <tr>\n",
              "      <th>3</th>\n",
              "      <td>7.568575</td>\n",
              "      <td>Visibility_km</td>\n",
              "    </tr>\n",
              "    <tr>\n",
              "      <th>4</th>\n",
              "      <td>12.460492</td>\n",
              "      <td>Rain</td>\n",
              "    </tr>\n",
              "    <tr>\n",
              "      <th>5</th>\n",
              "      <td>4.937373</td>\n",
              "      <td>Description</td>\n",
              "    </tr>\n",
              "  </tbody>\n",
              "</table>\n",
              "</div>\n",
              "      <button class=\"colab-df-convert\" onclick=\"convertToInteractive('df-5a3d619a-ab2a-48a5-adfd-2d685f15c065')\"\n",
              "              title=\"Convert this dataframe to an interactive table.\"\n",
              "              style=\"display:none;\">\n",
              "        \n",
              "  <svg xmlns=\"http://www.w3.org/2000/svg\" height=\"24px\"viewBox=\"0 0 24 24\"\n",
              "       width=\"24px\">\n",
              "    <path d=\"M0 0h24v24H0V0z\" fill=\"none\"/>\n",
              "    <path d=\"M18.56 5.44l.94 2.06.94-2.06 2.06-.94-2.06-.94-.94-2.06-.94 2.06-2.06.94zm-11 1L8.5 8.5l.94-2.06 2.06-.94-2.06-.94L8.5 2.5l-.94 2.06-2.06.94zm10 10l.94 2.06.94-2.06 2.06-.94-2.06-.94-.94-2.06-.94 2.06-2.06.94z\"/><path d=\"M17.41 7.96l-1.37-1.37c-.4-.4-.92-.59-1.43-.59-.52 0-1.04.2-1.43.59L10.3 9.45l-7.72 7.72c-.78.78-.78 2.05 0 2.83L4 21.41c.39.39.9.59 1.41.59.51 0 1.02-.2 1.41-.59l7.78-7.78 2.81-2.81c.8-.78.8-2.07 0-2.86zM5.41 20L4 18.59l7.72-7.72 1.47 1.35L5.41 20z\"/>\n",
              "  </svg>\n",
              "      </button>\n",
              "      \n",
              "  <style>\n",
              "    .colab-df-container {\n",
              "      display:flex;\n",
              "      flex-wrap:wrap;\n",
              "      gap: 12px;\n",
              "    }\n",
              "\n",
              "    .colab-df-convert {\n",
              "      background-color: #E8F0FE;\n",
              "      border: none;\n",
              "      border-radius: 50%;\n",
              "      cursor: pointer;\n",
              "      display: none;\n",
              "      fill: #1967D2;\n",
              "      height: 32px;\n",
              "      padding: 0 0 0 0;\n",
              "      width: 32px;\n",
              "    }\n",
              "\n",
              "    .colab-df-convert:hover {\n",
              "      background-color: #E2EBFA;\n",
              "      box-shadow: 0px 1px 2px rgba(60, 64, 67, 0.3), 0px 1px 3px 1px rgba(60, 64, 67, 0.15);\n",
              "      fill: #174EA6;\n",
              "    }\n",
              "\n",
              "    [theme=dark] .colab-df-convert {\n",
              "      background-color: #3B4455;\n",
              "      fill: #D2E3FC;\n",
              "    }\n",
              "\n",
              "    [theme=dark] .colab-df-convert:hover {\n",
              "      background-color: #434B5C;\n",
              "      box-shadow: 0px 1px 3px 1px rgba(0, 0, 0, 0.15);\n",
              "      filter: drop-shadow(0px 1px 2px rgba(0, 0, 0, 0.3));\n",
              "      fill: #FFFFFF;\n",
              "    }\n",
              "  </style>\n",
              "\n",
              "      <script>\n",
              "        const buttonEl =\n",
              "          document.querySelector('#df-5a3d619a-ab2a-48a5-adfd-2d685f15c065 button.colab-df-convert');\n",
              "        buttonEl.style.display =\n",
              "          google.colab.kernel.accessAllowed ? 'block' : 'none';\n",
              "\n",
              "        async function convertToInteractive(key) {\n",
              "          const element = document.querySelector('#df-5a3d619a-ab2a-48a5-adfd-2d685f15c065');\n",
              "          const dataTable =\n",
              "            await google.colab.kernel.invokeFunction('convertToInteractive',\n",
              "                                                     [key], {});\n",
              "          if (!dataTable) return;\n",
              "\n",
              "          const docLinkHtml = 'Like what you see? Visit the ' +\n",
              "            '<a target=\"_blank\" href=https://colab.research.google.com/notebooks/data_table.ipynb>data table notebook</a>'\n",
              "            + ' to learn more about interactive tables.';\n",
              "          element.innerHTML = '';\n",
              "          dataTable['output_type'] = 'display_data';\n",
              "          await google.colab.output.renderOutput(dataTable, element);\n",
              "          const docLink = document.createElement('div');\n",
              "          docLink.innerHTML = docLinkHtml;\n",
              "          element.appendChild(docLink);\n",
              "        }\n",
              "      </script>\n",
              "    </div>\n",
              "  </div>\n",
              "  "
            ]
          },
          "metadata": {}
        }
      ]
    },
    {
      "cell_type": "markdown",
      "source": [
        "VIF>5 so, we drop column 'Rain'"
      ],
      "metadata": {
        "id": "YrQbUeaLGEhf"
      }
    },
    {
      "cell_type": "code",
      "source": [
        "df_after= df_after.drop('Rain',axis=1)\n",
        "# For each X, calculate VIF and save in dataframe\n",
        "vif1 = pd.DataFrame()\n",
        "vif1[\"VIF Factor\"] = [variance_inflation_factor(df_after.values, i) for i in range(df_after.shape[1])]\n",
        "vif1[\"features\"] = df_after.columns\n",
        "\n",
        "display(vif1)"
      ],
      "metadata": {
        "colab": {
          "base_uri": "https://localhost:8080/",
          "height": 206
        },
        "id": "VDfguTIR16X0",
        "outputId": "17728950-93b8-430e-c441-8024e96d1b0a"
      },
      "execution_count": null,
      "outputs": [
        {
          "output_type": "display_data",
          "data": {
            "text/plain": [
              "   VIF Factor              features\n",
              "0    5.158733              Humidity\n",
              "1    3.196138        Wind_Speed_kmh\n",
              "2    3.961101  Wind_Bearing_degrees\n",
              "3    7.077453         Visibility_km\n",
              "4    3.411947           Description"
            ],
            "text/html": [
              "\n",
              "  <div id=\"df-f6b22924-fa90-42bc-b1b9-8ec8f0408946\">\n",
              "    <div class=\"colab-df-container\">\n",
              "      <div>\n",
              "<style scoped>\n",
              "    .dataframe tbody tr th:only-of-type {\n",
              "        vertical-align: middle;\n",
              "    }\n",
              "\n",
              "    .dataframe tbody tr th {\n",
              "        vertical-align: top;\n",
              "    }\n",
              "\n",
              "    .dataframe thead th {\n",
              "        text-align: right;\n",
              "    }\n",
              "</style>\n",
              "<table border=\"1\" class=\"dataframe\">\n",
              "  <thead>\n",
              "    <tr style=\"text-align: right;\">\n",
              "      <th></th>\n",
              "      <th>VIF Factor</th>\n",
              "      <th>features</th>\n",
              "    </tr>\n",
              "  </thead>\n",
              "  <tbody>\n",
              "    <tr>\n",
              "      <th>0</th>\n",
              "      <td>5.158733</td>\n",
              "      <td>Humidity</td>\n",
              "    </tr>\n",
              "    <tr>\n",
              "      <th>1</th>\n",
              "      <td>3.196138</td>\n",
              "      <td>Wind_Speed_kmh</td>\n",
              "    </tr>\n",
              "    <tr>\n",
              "      <th>2</th>\n",
              "      <td>3.961101</td>\n",
              "      <td>Wind_Bearing_degrees</td>\n",
              "    </tr>\n",
              "    <tr>\n",
              "      <th>3</th>\n",
              "      <td>7.077453</td>\n",
              "      <td>Visibility_km</td>\n",
              "    </tr>\n",
              "    <tr>\n",
              "      <th>4</th>\n",
              "      <td>3.411947</td>\n",
              "      <td>Description</td>\n",
              "    </tr>\n",
              "  </tbody>\n",
              "</table>\n",
              "</div>\n",
              "      <button class=\"colab-df-convert\" onclick=\"convertToInteractive('df-f6b22924-fa90-42bc-b1b9-8ec8f0408946')\"\n",
              "              title=\"Convert this dataframe to an interactive table.\"\n",
              "              style=\"display:none;\">\n",
              "        \n",
              "  <svg xmlns=\"http://www.w3.org/2000/svg\" height=\"24px\"viewBox=\"0 0 24 24\"\n",
              "       width=\"24px\">\n",
              "    <path d=\"M0 0h24v24H0V0z\" fill=\"none\"/>\n",
              "    <path d=\"M18.56 5.44l.94 2.06.94-2.06 2.06-.94-2.06-.94-.94-2.06-.94 2.06-2.06.94zm-11 1L8.5 8.5l.94-2.06 2.06-.94-2.06-.94L8.5 2.5l-.94 2.06-2.06.94zm10 10l.94 2.06.94-2.06 2.06-.94-2.06-.94-.94-2.06-.94 2.06-2.06.94z\"/><path d=\"M17.41 7.96l-1.37-1.37c-.4-.4-.92-.59-1.43-.59-.52 0-1.04.2-1.43.59L10.3 9.45l-7.72 7.72c-.78.78-.78 2.05 0 2.83L4 21.41c.39.39.9.59 1.41.59.51 0 1.02-.2 1.41-.59l7.78-7.78 2.81-2.81c.8-.78.8-2.07 0-2.86zM5.41 20L4 18.59l7.72-7.72 1.47 1.35L5.41 20z\"/>\n",
              "  </svg>\n",
              "      </button>\n",
              "      \n",
              "  <style>\n",
              "    .colab-df-container {\n",
              "      display:flex;\n",
              "      flex-wrap:wrap;\n",
              "      gap: 12px;\n",
              "    }\n",
              "\n",
              "    .colab-df-convert {\n",
              "      background-color: #E8F0FE;\n",
              "      border: none;\n",
              "      border-radius: 50%;\n",
              "      cursor: pointer;\n",
              "      display: none;\n",
              "      fill: #1967D2;\n",
              "      height: 32px;\n",
              "      padding: 0 0 0 0;\n",
              "      width: 32px;\n",
              "    }\n",
              "\n",
              "    .colab-df-convert:hover {\n",
              "      background-color: #E2EBFA;\n",
              "      box-shadow: 0px 1px 2px rgba(60, 64, 67, 0.3), 0px 1px 3px 1px rgba(60, 64, 67, 0.15);\n",
              "      fill: #174EA6;\n",
              "    }\n",
              "\n",
              "    [theme=dark] .colab-df-convert {\n",
              "      background-color: #3B4455;\n",
              "      fill: #D2E3FC;\n",
              "    }\n",
              "\n",
              "    [theme=dark] .colab-df-convert:hover {\n",
              "      background-color: #434B5C;\n",
              "      box-shadow: 0px 1px 3px 1px rgba(0, 0, 0, 0.15);\n",
              "      filter: drop-shadow(0px 1px 2px rgba(0, 0, 0, 0.3));\n",
              "      fill: #FFFFFF;\n",
              "    }\n",
              "  </style>\n",
              "\n",
              "      <script>\n",
              "        const buttonEl =\n",
              "          document.querySelector('#df-f6b22924-fa90-42bc-b1b9-8ec8f0408946 button.colab-df-convert');\n",
              "        buttonEl.style.display =\n",
              "          google.colab.kernel.accessAllowed ? 'block' : 'none';\n",
              "\n",
              "        async function convertToInteractive(key) {\n",
              "          const element = document.querySelector('#df-f6b22924-fa90-42bc-b1b9-8ec8f0408946');\n",
              "          const dataTable =\n",
              "            await google.colab.kernel.invokeFunction('convertToInteractive',\n",
              "                                                     [key], {});\n",
              "          if (!dataTable) return;\n",
              "\n",
              "          const docLinkHtml = 'Like what you see? Visit the ' +\n",
              "            '<a target=\"_blank\" href=https://colab.research.google.com/notebooks/data_table.ipynb>data table notebook</a>'\n",
              "            + ' to learn more about interactive tables.';\n",
              "          element.innerHTML = '';\n",
              "          dataTable['output_type'] = 'display_data';\n",
              "          await google.colab.output.renderOutput(dataTable, element);\n",
              "          const docLink = document.createElement('div');\n",
              "          docLink.innerHTML = docLinkHtml;\n",
              "          element.appendChild(docLink);\n",
              "        }\n",
              "      </script>\n",
              "    </div>\n",
              "  </div>\n",
              "  "
            ]
          },
          "metadata": {}
        }
      ]
    },
    {
      "cell_type": "markdown",
      "source": [
        "VIF>5 so, we drop column 'Visibility_km'"
      ],
      "metadata": {
        "id": "FZp8i8ubGG3J"
      }
    },
    {
      "cell_type": "code",
      "source": [
        "df_after= df_after.drop('Visibility_km',axis=1)\n",
        "# For each X, calculate VIF and save in dataframe\n",
        "vif1 = pd.DataFrame()\n",
        "vif1[\"VIF Factor\"] = [variance_inflation_factor(df_after.values, i) for i in range(df_after.shape[1])]\n",
        "vif1[\"features\"] = df_after.columns\n",
        "\n",
        "display(vif1)"
      ],
      "metadata": {
        "colab": {
          "base_uri": "https://localhost:8080/",
          "height": 175
        },
        "id": "MV0eAL6x2Chw",
        "outputId": "828d4320-0486-4dd4-f0b9-cab29cc160b6"
      },
      "execution_count": null,
      "outputs": [
        {
          "output_type": "display_data",
          "data": {
            "text/plain": [
              "   VIF Factor              features\n",
              "0    4.110576              Humidity\n",
              "1    3.012619        Wind_Speed_kmh\n",
              "2    3.899648  Wind_Bearing_degrees\n",
              "3    2.353209           Description"
            ],
            "text/html": [
              "\n",
              "  <div id=\"df-4a1474db-052e-4b82-a75e-d1f765722030\">\n",
              "    <div class=\"colab-df-container\">\n",
              "      <div>\n",
              "<style scoped>\n",
              "    .dataframe tbody tr th:only-of-type {\n",
              "        vertical-align: middle;\n",
              "    }\n",
              "\n",
              "    .dataframe tbody tr th {\n",
              "        vertical-align: top;\n",
              "    }\n",
              "\n",
              "    .dataframe thead th {\n",
              "        text-align: right;\n",
              "    }\n",
              "</style>\n",
              "<table border=\"1\" class=\"dataframe\">\n",
              "  <thead>\n",
              "    <tr style=\"text-align: right;\">\n",
              "      <th></th>\n",
              "      <th>VIF Factor</th>\n",
              "      <th>features</th>\n",
              "    </tr>\n",
              "  </thead>\n",
              "  <tbody>\n",
              "    <tr>\n",
              "      <th>0</th>\n",
              "      <td>4.110576</td>\n",
              "      <td>Humidity</td>\n",
              "    </tr>\n",
              "    <tr>\n",
              "      <th>1</th>\n",
              "      <td>3.012619</td>\n",
              "      <td>Wind_Speed_kmh</td>\n",
              "    </tr>\n",
              "    <tr>\n",
              "      <th>2</th>\n",
              "      <td>3.899648</td>\n",
              "      <td>Wind_Bearing_degrees</td>\n",
              "    </tr>\n",
              "    <tr>\n",
              "      <th>3</th>\n",
              "      <td>2.353209</td>\n",
              "      <td>Description</td>\n",
              "    </tr>\n",
              "  </tbody>\n",
              "</table>\n",
              "</div>\n",
              "      <button class=\"colab-df-convert\" onclick=\"convertToInteractive('df-4a1474db-052e-4b82-a75e-d1f765722030')\"\n",
              "              title=\"Convert this dataframe to an interactive table.\"\n",
              "              style=\"display:none;\">\n",
              "        \n",
              "  <svg xmlns=\"http://www.w3.org/2000/svg\" height=\"24px\"viewBox=\"0 0 24 24\"\n",
              "       width=\"24px\">\n",
              "    <path d=\"M0 0h24v24H0V0z\" fill=\"none\"/>\n",
              "    <path d=\"M18.56 5.44l.94 2.06.94-2.06 2.06-.94-2.06-.94-.94-2.06-.94 2.06-2.06.94zm-11 1L8.5 8.5l.94-2.06 2.06-.94-2.06-.94L8.5 2.5l-.94 2.06-2.06.94zm10 10l.94 2.06.94-2.06 2.06-.94-2.06-.94-.94-2.06-.94 2.06-2.06.94z\"/><path d=\"M17.41 7.96l-1.37-1.37c-.4-.4-.92-.59-1.43-.59-.52 0-1.04.2-1.43.59L10.3 9.45l-7.72 7.72c-.78.78-.78 2.05 0 2.83L4 21.41c.39.39.9.59 1.41.59.51 0 1.02-.2 1.41-.59l7.78-7.78 2.81-2.81c.8-.78.8-2.07 0-2.86zM5.41 20L4 18.59l7.72-7.72 1.47 1.35L5.41 20z\"/>\n",
              "  </svg>\n",
              "      </button>\n",
              "      \n",
              "  <style>\n",
              "    .colab-df-container {\n",
              "      display:flex;\n",
              "      flex-wrap:wrap;\n",
              "      gap: 12px;\n",
              "    }\n",
              "\n",
              "    .colab-df-convert {\n",
              "      background-color: #E8F0FE;\n",
              "      border: none;\n",
              "      border-radius: 50%;\n",
              "      cursor: pointer;\n",
              "      display: none;\n",
              "      fill: #1967D2;\n",
              "      height: 32px;\n",
              "      padding: 0 0 0 0;\n",
              "      width: 32px;\n",
              "    }\n",
              "\n",
              "    .colab-df-convert:hover {\n",
              "      background-color: #E2EBFA;\n",
              "      box-shadow: 0px 1px 2px rgba(60, 64, 67, 0.3), 0px 1px 3px 1px rgba(60, 64, 67, 0.15);\n",
              "      fill: #174EA6;\n",
              "    }\n",
              "\n",
              "    [theme=dark] .colab-df-convert {\n",
              "      background-color: #3B4455;\n",
              "      fill: #D2E3FC;\n",
              "    }\n",
              "\n",
              "    [theme=dark] .colab-df-convert:hover {\n",
              "      background-color: #434B5C;\n",
              "      box-shadow: 0px 1px 3px 1px rgba(0, 0, 0, 0.15);\n",
              "      filter: drop-shadow(0px 1px 2px rgba(0, 0, 0, 0.3));\n",
              "      fill: #FFFFFF;\n",
              "    }\n",
              "  </style>\n",
              "\n",
              "      <script>\n",
              "        const buttonEl =\n",
              "          document.querySelector('#df-4a1474db-052e-4b82-a75e-d1f765722030 button.colab-df-convert');\n",
              "        buttonEl.style.display =\n",
              "          google.colab.kernel.accessAllowed ? 'block' : 'none';\n",
              "\n",
              "        async function convertToInteractive(key) {\n",
              "          const element = document.querySelector('#df-4a1474db-052e-4b82-a75e-d1f765722030');\n",
              "          const dataTable =\n",
              "            await google.colab.kernel.invokeFunction('convertToInteractive',\n",
              "                                                     [key], {});\n",
              "          if (!dataTable) return;\n",
              "\n",
              "          const docLinkHtml = 'Like what you see? Visit the ' +\n",
              "            '<a target=\"_blank\" href=https://colab.research.google.com/notebooks/data_table.ipynb>data table notebook</a>'\n",
              "            + ' to learn more about interactive tables.';\n",
              "          element.innerHTML = '';\n",
              "          dataTable['output_type'] = 'display_data';\n",
              "          await google.colab.output.renderOutput(dataTable, element);\n",
              "          const docLink = document.createElement('div');\n",
              "          docLink.innerHTML = docLinkHtml;\n",
              "          element.appendChild(docLink);\n",
              "        }\n",
              "      </script>\n",
              "    </div>\n",
              "  </div>\n",
              "  "
            ]
          },
          "metadata": {}
        }
      ]
    },
    {
      "cell_type": "markdown",
      "source": [
        "Now all the VIF values are less than 5 which means there is no multicollinearity\n"
      ],
      "metadata": {
        "id": "TM2r-HE12ILX"
      }
    },
    {
      "cell_type": "markdown",
      "source": [
        "Conclusion: The data has little or no multicollinearity as\n",
        "\n",
        "i) Data in correlation matrix is less than 1\n",
        "\n",
        "ii) Diagonally dark color in heat map\n",
        "\n",
        "iii) VIF<5 (after backselection process)"
      ],
      "metadata": {
        "id": "HCPzUzCOFRLO"
      }
    },
    {
      "cell_type": "markdown",
      "source": [
        "**2] Linear Relationship**\n",
        "\n",
        "Scatterplots can show whether\n",
        "there is a linear or curvilinear relationship"
      ],
      "metadata": {
        "id": "YebV06REGXnj"
      }
    },
    {
      "cell_type": "code",
      "source": [
        "#plot the scatter matrix\n",
        "pd.plotting.scatter_matrix(df_after)\n",
        "plt.show()"
      ],
      "metadata": {
        "colab": {
          "base_uri": "https://localhost:8080/",
          "height": 288
        },
        "id": "QNuefWjn32-z",
        "outputId": "88c4a67b-acf6-4524-dbbe-45a7446a2d32"
      },
      "execution_count": null,
      "outputs": [
        {
          "output_type": "display_data",
          "data": {
            "text/plain": [
              "<Figure size 432x288 with 16 Axes>"
            ],
            "image/png": "[encoded data removed]"
          },
          "metadata": {
            "needs_background": "light"
          }
        }
      ]
    },
    {
      "cell_type": "markdown",
      "source": [
        "Conclusion: The scatter plots indicate a good linear relationship"
      ],
      "metadata": {
        "id": "eKU367MFHNEE"
      }
    },
    {
      "cell_type": "markdown",
      "source": [
        "The standard deviation of the residuals calculates how much the data points spread around the regression line.\n",
        "The result is used to measure the error of the regression line's predictability.\n",
        "The smaller the residual standard deviation is compared to the sample standard deviation, the more predictive, or useful, the model is.\n"
      ],
      "metadata": {
        "id": "wf86Wc8JIEdx"
      }
    },
    {
      "cell_type": "code",
      "source": [
        "desc_df=df.describe()\n",
        "#add the standard deviation metric\n",
        "desc_df.loc['+3std']=desc_df.loc['mean']+(desc_df.loc['std']*3)\n",
        "desc_df.loc['-3std']=desc_df.loc['mean']-(desc_df.loc['std']*3)\n",
        "desc_df"
      ],
      "metadata": {
        "colab": {
          "base_uri": "https://localhost:8080/",
          "height": 427
        },
        "id": "W-clZu8X4uC6",
        "outputId": "a4becc37-807a-43b8-83f8-c3ce871124b3"
      },
      "execution_count": null,
      "outputs": [
        {
          "output_type": "execute_result",
          "data": {
            "text/plain": [
              "       Temperature_c      Humidity  Wind_Speed_kmh  Wind_Bearing_degrees  \\\n",
              "count   10000.000000  10000.000000    10000.000000          10000.000000   \n",
              "mean       11.857208      0.735272       10.813565            185.979700   \n",
              "std         9.512244      0.195498        6.972569            107.469909   \n",
              "min       -21.822222      0.000000        0.000000              0.000000   \n",
              "25%         4.655556      0.600000        5.747700            112.000000   \n",
              "50%        11.561111      0.780000        9.933700            179.000000   \n",
              "75%        18.822222      0.900000       14.103600            290.000000   \n",
              "max        38.838889      1.000000       53.242700            359.000000   \n",
              "+3std      40.393938      1.321765       31.731271            508.389426   \n",
              "-3std     -16.679523      0.148779      -10.104141           -136.430026   \n",
              "\n",
              "       Visibility_km  Pressure_millibars          Rain   Description  \n",
              "count   10000.000000        10000.000000  10000.000000  10000.000000  \n",
              "mean       10.372964         1004.896421      0.891200      1.000600  \n",
              "std         4.178680          109.617120      0.311404      0.707707  \n",
              "min         0.000000            0.000000      0.000000      0.000000  \n",
              "25%         8.287475         1011.890000      1.000000      0.000000  \n",
              "50%        10.046400         1016.500000      1.000000      1.000000  \n",
              "75%        14.876400         1021.110000      1.000000      2.000000  \n",
              "max        16.100000         1045.380000      1.000000      2.000000  \n",
              "+3std      22.909004         1333.747781      1.825411      3.123722  \n",
              "-3std      -2.163075          676.045061     -0.043011     -1.122522  "
            ],
            "text/html": [
              "\n",
              "  <div id=\"df-7f74b1d1-264e-4fb2-92f7-8900624d2d17\">\n",
              "    <div class=\"colab-df-container\">\n",
              "      <div>\n",
              "<style scoped>\n",
              "    .dataframe tbody tr th:only-of-type {\n",
              "        vertical-align: middle;\n",
              "    }\n",
              "\n",
              "    .dataframe tbody tr th {\n",
              "        vertical-align: top;\n",
              "    }\n",
              "\n",
              "    .dataframe thead th {\n",
              "        text-align: right;\n",
              "    }\n",
              "</style>\n",
              "<table border=\"1\" class=\"dataframe\">\n",
              "  <thead>\n",
              "    <tr style=\"text-align: right;\">\n",
              "      <th></th>\n",
              "      <th>Temperature_c</th>\n",
              "      <th>Humidity</th>\n",
              "      <th>Wind_Speed_kmh</th>\n",
              "      <th>Wind_Bearing_degrees</th>\n",
              "      <th>Visibility_km</th>\n",
              "      <th>Pressure_millibars</th>\n",
              "      <th>Rain</th>\n",
              "      <th>Description</th>\n",
              "    </tr>\n",
              "  </thead>\n",
              "  <tbody>\n",
              "    <tr>\n",
              "      <th>count</th>\n",
              "      <td>10000.000000</td>\n",
              "      <td>10000.000000</td>\n",
              "      <td>10000.000000</td>\n",
              "      <td>10000.000000</td>\n",
              "      <td>10000.000000</td>\n",
              "      <td>10000.000000</td>\n",
              "      <td>10000.000000</td>\n",
              "      <td>10000.000000</td>\n",
              "    </tr>\n",
              "    <tr>\n",
              "      <th>mean</th>\n",
              "      <td>11.857208</td>\n",
              "      <td>0.735272</td>\n",
              "      <td>10.813565</td>\n",
              "      <td>185.979700</td>\n",
              "      <td>10.372964</td>\n",
              "      <td>1004.896421</td>\n",
              "      <td>0.891200</td>\n",
              "      <td>1.000600</td>\n",
              "    </tr>\n",
              "    <tr>\n",
              "      <th>std</th>\n",
              "      <td>9.512244</td>\n",
              "      <td>0.195498</td>\n",
              "      <td>6.972569</td>\n",
              "      <td>107.469909</td>\n",
              "      <td>4.178680</td>\n",
              "      <td>109.617120</td>\n",
              "      <td>0.311404</td>\n",
              "      <td>0.707707</td>\n",
              "    </tr>\n",
              "    <tr>\n",
              "      <th>min</th>\n",
              "      <td>-21.822222</td>\n",
              "      <td>0.000000</td>\n",
              "      <td>0.000000</td>\n",
              "      <td>0.000000</td>\n",
              "      <td>0.000000</td>\n",
              "      <td>0.000000</td>\n",
              "      <td>0.000000</td>\n",
              "      <td>0.000000</td>\n",
              "    </tr>\n",
              "    <tr>\n",
              "      <th>25%</th>\n",
              "      <td>4.655556</td>\n",
              "      <td>0.600000</td>\n",
              "      <td>5.747700</td>\n",
              "      <td>112.000000</td>\n",
              "      <td>8.287475</td>\n",
              "      <td>1011.890000</td>\n",
              "      <td>1.000000</td>\n",
              "      <td>0.000000</td>\n",
              "    </tr>\n",
              "    <tr>\n",
              "      <th>50%</th>\n",
              "      <td>11.561111</td>\n",
              "      <td>0.780000</td>\n",
              "      <td>9.933700</td>\n",
              "      <td>179.000000</td>\n",
              "      <td>10.046400</td>\n",
              "      <td>1016.500000</td>\n",
              "      <td>1.000000</td>\n",
              "      <td>1.000000</td>\n",
              "    </tr>\n",
              "    <tr>\n",
              "      <th>75%</th>\n",
              "      <td>18.822222</td>\n",
              "      <td>0.900000</td>\n",
              "      <td>14.103600</td>\n",
              "      <td>290.000000</td>\n",
              "      <td>14.876400</td>\n",
              "      <td>1021.110000</td>\n",
              "      <td>1.000000</td>\n",
              "      <td>2.000000</td>\n",
              "    </tr>\n",
              "    <tr>\n",
              "      <th>max</th>\n",
              "      <td>38.838889</td>\n",
              "      <td>1.000000</td>\n",
              "      <td>53.242700</td>\n",
              "      <td>359.000000</td>\n",
              "      <td>16.100000</td>\n",
              "      <td>1045.380000</td>\n",
              "      <td>1.000000</td>\n",
              "      <td>2.000000</td>\n",
              "    </tr>\n",
              "    <tr>\n",
              "      <th>+3std</th>\n",
              "      <td>40.393938</td>\n",
              "      <td>1.321765</td>\n",
              "      <td>31.731271</td>\n",
              "      <td>508.389426</td>\n",
              "      <td>22.909004</td>\n",
              "      <td>1333.747781</td>\n",
              "      <td>1.825411</td>\n",
              "      <td>3.123722</td>\n",
              "    </tr>\n",
              "    <tr>\n",
              "      <th>-3std</th>\n",
              "      <td>-16.679523</td>\n",
              "      <td>0.148779</td>\n",
              "      <td>-10.104141</td>\n",
              "      <td>-136.430026</td>\n",
              "      <td>-2.163075</td>\n",
              "      <td>676.045061</td>\n",
              "      <td>-0.043011</td>\n",
              "      <td>-1.122522</td>\n",
              "    </tr>\n",
              "  </tbody>\n",
              "</table>\n",
              "</div>\n",
              "      <button class=\"colab-df-convert\" onclick=\"convertToInteractive('df-7f74b1d1-264e-4fb2-92f7-8900624d2d17')\"\n",
              "              title=\"Convert this dataframe to an interactive table.\"\n",
              "              style=\"display:none;\">\n",
              "        \n",
              "  <svg xmlns=\"http://www.w3.org/2000/svg\" height=\"24px\"viewBox=\"0 0 24 24\"\n",
              "       width=\"24px\">\n",
              "    <path d=\"M0 0h24v24H0V0z\" fill=\"none\"/>\n",
              "    <path d=\"M18.56 5.44l.94 2.06.94-2.06 2.06-.94-2.06-.94-.94-2.06-.94 2.06-2.06.94zm-11 1L8.5 8.5l.94-2.06 2.06-.94-2.06-.94L8.5 2.5l-.94 2.06-2.06.94zm10 10l.94 2.06.94-2.06 2.06-.94-2.06-.94-.94-2.06-.94 2.06-2.06.94z\"/><path d=\"M17.41 7.96l-1.37-1.37c-.4-.4-.92-.59-1.43-.59-.52 0-1.04.2-1.43.59L10.3 9.45l-7.72 7.72c-.78.78-.78 2.05 0 2.83L4 21.41c.39.39.9.59 1.41.59.51 0 1.02-.2 1.41-.59l7.78-7.78 2.81-2.81c.8-.78.8-2.07 0-2.86zM5.41 20L4 18.59l7.72-7.72 1.47 1.35L5.41 20z\"/>\n",
              "  </svg>\n",
              "      </button>\n",
              "      \n",
              "  <style>\n",
              "    .colab-df-container {\n",
              "      display:flex;\n",
              "      flex-wrap:wrap;\n",
              "      gap: 12px;\n",
              "    }\n",
              "\n",
              "    .colab-df-convert {\n",
              "      background-color: #E8F0FE;\n",
              "      border: none;\n",
              "      border-radius: 50%;\n",
              "      cursor: pointer;\n",
              "      display: none;\n",
              "      fill: #1967D2;\n",
              "      height: 32px;\n",
              "      padding: 0 0 0 0;\n",
              "      width: 32px;\n",
              "    }\n",
              "\n",
              "    .colab-df-convert:hover {\n",
              "      background-color: #E2EBFA;\n",
              "      box-shadow: 0px 1px 2px rgba(60, 64, 67, 0.3), 0px 1px 3px 1px rgba(60, 64, 67, 0.15);\n",
              "      fill: #174EA6;\n",
              "    }\n",
              "\n",
              "    [theme=dark] .colab-df-convert {\n",
              "      background-color: #3B4455;\n",
              "      fill: #D2E3FC;\n",
              "    }\n",
              "\n",
              "    [theme=dark] .colab-df-convert:hover {\n",
              "      background-color: #434B5C;\n",
              "      box-shadow: 0px 1px 3px 1px rgba(0, 0, 0, 0.15);\n",
              "      filter: drop-shadow(0px 1px 2px rgba(0, 0, 0, 0.3));\n",
              "      fill: #FFFFFF;\n",
              "    }\n",
              "  </style>\n",
              "\n",
              "      <script>\n",
              "        const buttonEl =\n",
              "          document.querySelector('#df-7f74b1d1-264e-4fb2-92f7-8900624d2d17 button.colab-df-convert');\n",
              "        buttonEl.style.display =\n",
              "          google.colab.kernel.accessAllowed ? 'block' : 'none';\n",
              "\n",
              "        async function convertToInteractive(key) {\n",
              "          const element = document.querySelector('#df-7f74b1d1-264e-4fb2-92f7-8900624d2d17');\n",
              "          const dataTable =\n",
              "            await google.colab.kernel.invokeFunction('convertToInteractive',\n",
              "                                                     [key], {});\n",
              "          if (!dataTable) return;\n",
              "\n",
              "          const docLinkHtml = 'Like what you see? Visit the ' +\n",
              "            '<a target=\"_blank\" href=https://colab.research.google.com/notebooks/data_table.ipynb>data table notebook</a>'\n",
              "            + ' to learn more about interactive tables.';\n",
              "          element.innerHTML = '';\n",
              "          dataTable['output_type'] = 'display_data';\n",
              "          await google.colab.output.renderOutput(dataTable, element);\n",
              "          const docLink = document.createElement('div');\n",
              "          docLink.innerHTML = docLinkHtml;\n",
              "          element.appendChild(docLink);\n",
              "        }\n",
              "      </script>\n",
              "    </div>\n",
              "  </div>\n",
              "  "
            ]
          },
          "metadata": {},
          "execution_count": 17
        }
      ]
    },
    {
      "cell_type": "markdown",
      "source": [
        "**3] Normal Distribution**\n",
        "\n",
        "i) This is done by plotting QQ plot.\n",
        "We require the data should lie very closely to the line so that the normality assumption is satisfied.\n",
        "\n",
        "ii)The box plot shape will show if a statistical data set is normally distributed or skewed.\n",
        "\n",
        "\n"
      ],
      "metadata": {
        "id": "gewjZQAbJgYE"
      }
    },
    {
      "cell_type": "code",
      "source": [
        "plt.boxplot(df['Humidity'])"
      ],
      "metadata": {
        "colab": {
          "base_uri": "https://localhost:8080/",
          "height": 404
        },
        "id": "WhSaiAXjJpK7",
        "outputId": "2500c8eb-8af7-4c06-bff8-51fc8901f92f"
      },
      "execution_count": null,
      "outputs": [
        {
          "output_type": "execute_result",
          "data": {
            "text/plain": [
              "{'whiskers': [<matplotlib.lines.Line2D at 0x7f37871829d0>,\n",
              "  <matplotlib.lines.Line2D at 0x7f3787197190>],\n",
              " 'caps': [<matplotlib.lines.Line2D at 0x7f37871976d0>,\n",
              "  <matplotlib.lines.Line2D at 0x7f3787197c10>],\n",
              " 'boxes': [<matplotlib.lines.Line2D at 0x7f3787193610>],\n",
              " 'medians': [<matplotlib.lines.Line2D at 0x7f378719d1d0>],\n",
              " 'fliers': [<matplotlib.lines.Line2D at 0x7f378719d710>],\n",
              " 'means': []}"
            ]
          },
          "metadata": {},
          "execution_count": 19
        },
        {
          "output_type": "display_data",
          "data": {
            "text/plain": [
              "<Figure size 432x288 with 1 Axes>"
            ],
            "image/png": "[encoded data removed]"
          },
          "metadata": {
            "needs_background": "light"
          }
        }
      ]
    },
    {
      "cell_type": "code",
      "source": [
        "plt.boxplot(df['Wind_Speed_kmh'])"
      ],
      "metadata": {
        "colab": {
          "base_uri": "https://localhost:8080/",
          "height": 404
        },
        "id": "T4yEzOvRJ_AG",
        "outputId": "fc6e171d-9ac8-40f3-f467-bf2671ddb323"
      },
      "execution_count": null,
      "outputs": [
        {
          "output_type": "execute_result",
          "data": {
            "text/plain": [
              "{'whiskers': [<matplotlib.lines.Line2D at 0x7f37870fd750>,\n",
              "  <matplotlib.lines.Line2D at 0x7f37870fdc90>],\n",
              " 'caps': [<matplotlib.lines.Line2D at 0x7f3787105210>,\n",
              "  <matplotlib.lines.Line2D at 0x7f3787105750>],\n",
              " 'boxes': [<matplotlib.lines.Line2D at 0x7f37870fd110>],\n",
              " 'medians': [<matplotlib.lines.Line2D at 0x7f3787105cd0>],\n",
              " 'fliers': [<matplotlib.lines.Line2D at 0x7f378710a250>],\n",
              " 'means': []}"
            ]
          },
          "metadata": {},
          "execution_count": 20
        },
        {
          "output_type": "display_data",
          "data": {
            "text/plain": [
              "<Figure size 432x288 with 1 Axes>"
            ],
            "image/png": "[encoded data removed]"
          },
          "metadata": {
            "needs_background": "light"
          }
        }
      ]
    },
    {
      "cell_type": "code",
      "source": [
        "plt.boxplot(df['Visibility_km'])"
      ],
      "metadata": {
        "colab": {
          "base_uri": "https://localhost:8080/",
          "height": 404
        },
        "id": "G2ezWqM2LsPU",
        "outputId": "52dd102f-c732-400c-eab9-64138a563a15"
      },
      "execution_count": null,
      "outputs": [
        {
          "output_type": "execute_result",
          "data": {
            "text/plain": [
              "{'whiskers': [<matplotlib.lines.Line2D at 0x7f378706d190>,\n",
              "  <matplotlib.lines.Line2D at 0x7f378706d6d0>],\n",
              " 'caps': [<matplotlib.lines.Line2D at 0x7f378706dc10>,\n",
              "  <matplotlib.lines.Line2D at 0x7f3787075190>],\n",
              " 'boxes': [<matplotlib.lines.Line2D at 0x7f3787067b10>],\n",
              " 'medians': [<matplotlib.lines.Line2D at 0x7f3787075710>],\n",
              " 'fliers': [<matplotlib.lines.Line2D at 0x7f3787075c50>],\n",
              " 'means': []}"
            ]
          },
          "metadata": {},
          "execution_count": 21
        },
        {
          "output_type": "display_data",
          "data": {
            "text/plain": [
              "<Figure size 432x288 with 1 Axes>"
            ],
            "image/png": "[encoded data removed]"
          },
          "metadata": {
            "needs_background": "light"
          }
        }
      ]
    },
    {
      "cell_type": "code",
      "source": [
        "plt.boxplot(df['Pressure_millibars'])"
      ],
      "metadata": {
        "colab": {
          "base_uri": "https://localhost:8080/",
          "height": 404
        },
        "id": "ZyM_RCyuLtxi",
        "outputId": "2597114c-24d1-4f7b-d5fa-9d66ae9a30f3"
      },
      "execution_count": null,
      "outputs": [
        {
          "output_type": "execute_result",
          "data": {
            "text/plain": [
              "{'whiskers': [<matplotlib.lines.Line2D at 0x7f3786fe4f90>,\n",
              "  <matplotlib.lines.Line2D at 0x7f3786fe7510>],\n",
              " 'caps': [<matplotlib.lines.Line2D at 0x7f3786fe7a50>,\n",
              "  <matplotlib.lines.Line2D at 0x7f3786fe7f90>],\n",
              " 'boxes': [<matplotlib.lines.Line2D at 0x7f3786fe4950>],\n",
              " 'medians': [<matplotlib.lines.Line2D at 0x7f3786fee550>],\n",
              " 'fliers': [<matplotlib.lines.Line2D at 0x7f3786feea90>],\n",
              " 'means': []}"
            ]
          },
          "metadata": {},
          "execution_count": 22
        },
        {
          "output_type": "display_data",
          "data": {
            "text/plain": [
              "<Figure size 432x288 with 1 Axes>"
            ],
            "image/png": "[encoded data removed]"
          },
          "metadata": {
            "needs_background": "light"
          }
        }
      ]
    },
    {
      "cell_type": "code",
      "source": [
        "plt.boxplot(df['Rain'])"
      ],
      "metadata": {
        "colab": {
          "base_uri": "https://localhost:8080/",
          "height": 404
        },
        "id": "ayaHHSU9LuS-",
        "outputId": "042255f9-166d-4a5b-f493-35497ea736f0"
      },
      "execution_count": null,
      "outputs": [
        {
          "output_type": "execute_result",
          "data": {
            "text/plain": [
              "{'whiskers': [<matplotlib.lines.Line2D at 0x7ff3ae4546d0>,\n",
              "  <matplotlib.lines.Line2D at 0x7ff3ae454c10>],\n",
              " 'caps': [<matplotlib.lines.Line2D at 0x7ff3ae441190>,\n",
              "  <matplotlib.lines.Line2D at 0x7ff3ae4416d0>],\n",
              " 'boxes': [<matplotlib.lines.Line2D at 0x7ff3ae454190>],\n",
              " 'medians': [<matplotlib.lines.Line2D at 0x7ff3ae441c50>],\n",
              " 'fliers': [<matplotlib.lines.Line2D at 0x7ff3ae4431d0>],\n",
              " 'means': []}"
            ]
          },
          "metadata": {},
          "execution_count": 29
        },
        {
          "output_type": "display_data",
          "data": {
            "text/plain": [
              "<Figure size 432x288 with 1 Axes>"
            ],
            "image/png": "[encoded data removed]"
          },
          "metadata": {
            "needs_background": "light"
          }
        }
      ]
    },
    {
      "cell_type": "code",
      "source": [
        "plt.boxplot(df['Wind_Bearing_degrees'])"
      ],
      "metadata": {
        "colab": {
          "base_uri": "https://localhost:8080/",
          "height": 404
        },
        "id": "O4m9QE5BKE0m",
        "outputId": "54890626-c2ed-4a03-9bf3-8afe02dbdb6d"
      },
      "execution_count": null,
      "outputs": [
        {
          "output_type": "execute_result",
          "data": {
            "text/plain": [
              "{'whiskers': [<matplotlib.lines.Line2D at 0x7ff3b15e51d0>,\n",
              "  <matplotlib.lines.Line2D at 0x7ff3ae3cd410>],\n",
              " 'caps': [<matplotlib.lines.Line2D at 0x7ff3ae3cdd50>,\n",
              "  <matplotlib.lines.Line2D at 0x7ff3ae3cdb90>],\n",
              " 'boxes': [<matplotlib.lines.Line2D at 0x7ff3b1630650>],\n",
              " 'medians': [<matplotlib.lines.Line2D at 0x7ff3b1585d90>],\n",
              " 'fliers': [<matplotlib.lines.Line2D at 0x7ff3b1585a10>],\n",
              " 'means': []}"
            ]
          },
          "metadata": {},
          "execution_count": 25
        },
        {
          "output_type": "display_data",
          "data": {
            "text/plain": [
              "<Figure size 432x288 with 1 Axes>"
            ],
            "image/png": "[encoded data removed]"
          },
          "metadata": {
            "needs_background": "light"
          }
        }
      ]
    },
    {
      "cell_type": "code",
      "source": [
        "plt.boxplot(df['Description'])"
      ],
      "metadata": {
        "colab": {
          "base_uri": "https://localhost:8080/",
          "height": 404
        },
        "id": "_c9BOTJgKKXu",
        "outputId": "9e29a75c-c3a2-4923-9417-90364a401fde"
      },
      "execution_count": null,
      "outputs": [
        {
          "output_type": "execute_result",
          "data": {
            "text/plain": [
              "{'whiskers': [<matplotlib.lines.Line2D at 0x7ff3ae3ad390>,\n",
              "  <matplotlib.lines.Line2D at 0x7ff3ae881350>],\n",
              " 'caps': [<matplotlib.lines.Line2D at 0x7ff3ae881f50>,\n",
              "  <matplotlib.lines.Line2D at 0x7ff3ae881910>],\n",
              " 'boxes': [<matplotlib.lines.Line2D at 0x7ff3ae3ad310>],\n",
              " 'medians': [<matplotlib.lines.Line2D at 0x7ff3ae88c0d0>],\n",
              " 'fliers': [<matplotlib.lines.Line2D at 0x7ff3ae88cc10>],\n",
              " 'means': []}"
            ]
          },
          "metadata": {},
          "execution_count": 26
        },
        {
          "output_type": "display_data",
          "data": {
            "text/plain": [
              "<Figure size 432x288 with 1 Axes>"
            ],
            "image/png": "[encoded data removed]"
          },
          "metadata": {
            "needs_background": "light"
          }
        }
      ]
    },
    {
      "cell_type": "markdown",
      "source": [
        "As we can see 'Description', 'Wind_Speed_kmh' ,'Pressure_millibars' and 'Rain' are normally distributed.\n",
        "\n",
        "\"Humidity' is positively skewed\n",
        "\n",
        "'Wind_Bearing_degrees', 'Visibility_km' is negatively skewed"
      ],
      "metadata": {
        "id": "vHso-Ts2KYi9"
      }
    },
    {
      "cell_type": "markdown",
      "source": [
        "Conclusion : Majority of the variables are normally distributed"
      ],
      "metadata": {
        "id": "b-N_f_XYLC1V"
      }
    },
    {
      "cell_type": "code",
      "source": [
        "X=df.drop(['Visibility_km','Rain','Pressure_millibars','Temperature_c'],axis=1)\n",
        "Y= df[['Temperature_c']]\n",
        "X.head()"
      ],
      "metadata": {
        "colab": {
          "base_uri": "https://localhost:8080/",
          "height": 206
        },
        "id": "klnqTejc_HJk",
        "outputId": "d5e0cdde-7cf1-4520-9b51-a51b711af55e"
      },
      "execution_count": null,
      "outputs": [
        {
          "output_type": "execute_result",
          "data": {
            "text/plain": [
              "   Humidity  Wind_Speed_kmh  Wind_Bearing_degrees  Description\n",
              "0      0.92         11.2700                 130.0          0.0\n",
              "1      0.73         20.9300                 330.0          2.0\n",
              "2      0.97          5.9731                 193.0          1.0\n",
              "3      0.82          3.2200                 300.0          0.0\n",
              "4      0.60         10.8836                 116.0          0.0"
            ],
            "text/html": [
              "\n",
              "  <div id=\"df-1f2c7133-f6a7-4d6f-a188-36117cad9016\">\n",
              "    <div class=\"colab-df-container\">\n",
              "      <div>\n",
              "<style scoped>\n",
              "    .dataframe tbody tr th:only-of-type {\n",
              "        vertical-align: middle;\n",
              "    }\n",
              "\n",
              "    .dataframe tbody tr th {\n",
              "        vertical-align: top;\n",
              "    }\n",
              "\n",
              "    .dataframe thead th {\n",
              "        text-align: right;\n",
              "    }\n",
              "</style>\n",
              "<table border=\"1\" class=\"dataframe\">\n",
              "  <thead>\n",
              "    <tr style=\"text-align: right;\">\n",
              "      <th></th>\n",
              "      <th>Humidity</th>\n",
              "      <th>Wind_Speed_kmh</th>\n",
              "      <th>Wind_Bearing_degrees</th>\n",
              "      <th>Description</th>\n",
              "    </tr>\n",
              "  </thead>\n",
              "  <tbody>\n",
              "    <tr>\n",
              "      <th>0</th>\n",
              "      <td>0.92</td>\n",
              "      <td>11.2700</td>\n",
              "      <td>130.0</td>\n",
              "      <td>0.0</td>\n",
              "    </tr>\n",
              "    <tr>\n",
              "      <th>1</th>\n",
              "      <td>0.73</td>\n",
              "      <td>20.9300</td>\n",
              "      <td>330.0</td>\n",
              "      <td>2.0</td>\n",
              "    </tr>\n",
              "    <tr>\n",
              "      <th>2</th>\n",
              "      <td>0.97</td>\n",
              "      <td>5.9731</td>\n",
              "      <td>193.0</td>\n",
              "      <td>1.0</td>\n",
              "    </tr>\n",
              "    <tr>\n",
              "      <th>3</th>\n",
              "      <td>0.82</td>\n",
              "      <td>3.2200</td>\n",
              "      <td>300.0</td>\n",
              "      <td>0.0</td>\n",
              "    </tr>\n",
              "    <tr>\n",
              "      <th>4</th>\n",
              "      <td>0.60</td>\n",
              "      <td>10.8836</td>\n",
              "      <td>116.0</td>\n",
              "      <td>0.0</td>\n",
              "    </tr>\n",
              "  </tbody>\n",
              "</table>\n",
              "</div>\n",
              "      <button class=\"colab-df-convert\" onclick=\"convertToInteractive('df-1f2c7133-f6a7-4d6f-a188-36117cad9016')\"\n",
              "              title=\"Convert this dataframe to an interactive table.\"\n",
              "              style=\"display:none;\">\n",
              "        \n",
              "  <svg xmlns=\"http://www.w3.org/2000/svg\" height=\"24px\"viewBox=\"0 0 24 24\"\n",
              "       width=\"24px\">\n",
              "    <path d=\"M0 0h24v24H0V0z\" fill=\"none\"/>\n",
              "    <path d=\"M18.56 5.44l.94 2.06.94-2.06 2.06-.94-2.06-.94-.94-2.06-.94 2.06-2.06.94zm-11 1L8.5 8.5l.94-2.06 2.06-.94-2.06-.94L8.5 2.5l-.94 2.06-2.06.94zm10 10l.94 2.06.94-2.06 2.06-.94-2.06-.94-.94-2.06-.94 2.06-2.06.94z\"/><path d=\"M17.41 7.96l-1.37-1.37c-.4-.4-.92-.59-1.43-.59-.52 0-1.04.2-1.43.59L10.3 9.45l-7.72 7.72c-.78.78-.78 2.05 0 2.83L4 21.41c.39.39.9.59 1.41.59.51 0 1.02-.2 1.41-.59l7.78-7.78 2.81-2.81c.8-.78.8-2.07 0-2.86zM5.41 20L4 18.59l7.72-7.72 1.47 1.35L5.41 20z\"/>\n",
              "  </svg>\n",
              "      </button>\n",
              "      \n",
              "  <style>\n",
              "    .colab-df-container {\n",
              "      display:flex;\n",
              "      flex-wrap:wrap;\n",
              "      gap: 12px;\n",
              "    }\n",
              "\n",
              "    .colab-df-convert {\n",
              "      background-color: #E8F0FE;\n",
              "      border: none;\n",
              "      border-radius: 50%;\n",
              "      cursor: pointer;\n",
              "      display: none;\n",
              "      fill: #1967D2;\n",
              "      height: 32px;\n",
              "      padding: 0 0 0 0;\n",
              "      width: 32px;\n",
              "    }\n",
              "\n",
              "    .colab-df-convert:hover {\n",
              "      background-color: #E2EBFA;\n",
              "      box-shadow: 0px 1px 2px rgba(60, 64, 67, 0.3), 0px 1px 3px 1px rgba(60, 64, 67, 0.15);\n",
              "      fill: #174EA6;\n",
              "    }\n",
              "\n",
              "    [theme=dark] .colab-df-convert {\n",
              "      background-color: #3B4455;\n",
              "      fill: #D2E3FC;\n",
              "    }\n",
              "\n",
              "    [theme=dark] .colab-df-convert:hover {\n",
              "      background-color: #434B5C;\n",
              "      box-shadow: 0px 1px 3px 1px rgba(0, 0, 0, 0.15);\n",
              "      filter: drop-shadow(0px 1px 2px rgba(0, 0, 0, 0.3));\n",
              "      fill: #FFFFFF;\n",
              "    }\n",
              "  </style>\n",
              "\n",
              "      <script>\n",
              "        const buttonEl =\n",
              "          document.querySelector('#df-1f2c7133-f6a7-4d6f-a188-36117cad9016 button.colab-df-convert');\n",
              "        buttonEl.style.display =\n",
              "          google.colab.kernel.accessAllowed ? 'block' : 'none';\n",
              "\n",
              "        async function convertToInteractive(key) {\n",
              "          const element = document.querySelector('#df-1f2c7133-f6a7-4d6f-a188-36117cad9016');\n",
              "          const dataTable =\n",
              "            await google.colab.kernel.invokeFunction('convertToInteractive',\n",
              "                                                     [key], {});\n",
              "          if (!dataTable) return;\n",
              "\n",
              "          const docLinkHtml = 'Like what you see? Visit the ' +\n",
              "            '<a target=\"_blank\" href=https://colab.research.google.com/notebooks/data_table.ipynb>data table notebook</a>'\n",
              "            + ' to learn more about interactive tables.';\n",
              "          element.innerHTML = '';\n",
              "          dataTable['output_type'] = 'display_data';\n",
              "          await google.colab.output.renderOutput(dataTable, element);\n",
              "          const docLink = document.createElement('div');\n",
              "          docLink.innerHTML = docLinkHtml;\n",
              "          element.appendChild(docLink);\n",
              "        }\n",
              "      </script>\n",
              "    </div>\n",
              "  </div>\n",
              "  "
            ]
          },
          "metadata": {},
          "execution_count": 23
        }
      ]
    },
    {
      "cell_type": "markdown",
      "source": [
        "Building a regression model"
      ],
      "metadata": {
        "id": "J5e_70NsMbJJ"
      }
    },
    {
      "cell_type": "code",
      "source": [
        "lm = sm.add_constant(X)"
      ],
      "metadata": {
        "colab": {
          "base_uri": "https://localhost:8080/"
        },
        "id": "KhO2qmWw_rKi",
        "outputId": "5414dba8-cbc3-4c2b-8c77-69f8157b208e"
      },
      "execution_count": null,
      "outputs": [
        {
          "output_type": "stream",
          "name": "stderr",
          "text": [
            "/usr/local/lib/python3.7/dist-packages/statsmodels/tsa/tsatools.py:142: FutureWarning: In a future version of pandas all arguments of concat except for the argument 'objs' will be keyword-only\n",
            "  x = pd.concat(x[::order], 1)\n"
          ]
        }
      ]
    },
    {
      "cell_type": "code",
      "source": [
        "result = sm.OLS(Y,lm).fit()"
      ],
      "metadata": {
        "id": "T8Yr1GJ6hhbt"
      },
      "execution_count": null,
      "outputs": []
    },
    {
      "cell_type": "code",
      "source": [
        "result.params"
      ],
      "metadata": {
        "colab": {
          "base_uri": "https://localhost:8080/"
        },
        "id": "GfyqFb7E_yVO",
        "outputId": "5480718a-daeb-4fa6-d0e5-69b6d60c967b"
      },
      "execution_count": null,
      "outputs": [
        {
          "output_type": "execute_result",
          "data": {
            "text/plain": [
              "const                    7.405715\n",
              "Humidity                -8.197587\n",
              "Wind_Speed_kmh          -0.061495\n",
              "Wind_Bearing_degrees     0.001356\n",
              "Description             10.885270\n",
              "dtype: float64"
            ]
          },
          "metadata": {},
          "execution_count": 26
        }
      ]
    },
    {
      "cell_type": "code",
      "source": [
        "print(result.summary())"
      ],
      "metadata": {
        "colab": {
          "base_uri": "https://localhost:8080/"
        },
        "id": "9hlAeftq5ukH",
        "outputId": "27730b86-1c07-4996-8137-67ab7cee25ac"
      },
      "execution_count": null,
      "outputs": [
        {
          "output_type": "stream",
          "name": "stdout",
          "text": [
            "                            OLS Regression Results                            \n",
            "==============================================================================\n",
            "Dep. Variable:          Temperature_c   R-squared:                       0.841\n",
            "Model:                            OLS   Adj. R-squared:                  0.841\n",
            "Method:                 Least Squares   F-statistic:                 1.319e+04\n",
            "Date:                Mon, 10 Oct 2022   Prob (F-statistic):               0.00\n",
            "Time:                        08:01:51   Log-Likelihood:                -27530.\n",
            "No. Observations:               10000   AIC:                         5.507e+04\n",
            "Df Residuals:                    9995   BIC:                         5.511e+04\n",
            "Df Model:                           4                                         \n",
            "Covariance Type:            nonrobust                                         \n",
            "========================================================================================\n",
            "                           coef    std err          t      P>|t|      [0.025      0.975]\n",
            "----------------------------------------------------------------------------------------\n",
            "const                    7.4057      0.257     28.764      0.000       6.901       7.910\n",
            "Humidity                -8.1976      0.247    -33.149      0.000      -8.682      -7.713\n",
            "Wind_Speed_kmh          -0.0615      0.006    -10.829      0.000      -0.073      -0.050\n",
            "Wind_Bearing_degrees     0.0014      0.000      3.810      0.000       0.001       0.002\n",
            "Description             10.8853      0.067    163.412      0.000      10.755      11.016\n",
            "==============================================================================\n",
            "Omnibus:                       89.230   Durbin-Watson:                   2.010\n",
            "Prob(Omnibus):                  0.000   Jarque-Bera (JB):               96.111\n",
            "Skew:                          -0.202   Prob(JB):                     1.35e-21\n",
            "Kurtosis:                       3.261   Cond. No.                     1.99e+03\n",
            "==============================================================================\n",
            "\n",
            "Notes:\n",
            "[1] Standard Errors assume that the covariance matrix of the errors is correctly specified.\n",
            "[2] The condition number is large, 1.99e+03. This might indicate that there are\n",
            "strong multicollinearity or other numerical problems.\n"
          ]
        }
      ]
    },
    {
      "cell_type": "markdown",
      "source": [
        "The model is good fit after removing variables with VIF>5 as the R_squared value is 84.1%"
      ],
      "metadata": {
        "id": "tOLkTMQdOshJ"
      }
    },
    {
      "cell_type": "code",
      "source": [
        "#Check for the normality of the residuals\n",
        "sm.qqplot(result.resid, line='s')\n",
        "pylab.show()\n",
        "\n",
        "# check that mean of residuals is approx zero\n",
        "mean_residuals= sum(result.resid)/len(result.resid)\n",
        "mean_residuals"
      ],
      "metadata": {
        "colab": {
          "base_uri": "https://localhost:8080/",
          "height": 296
        },
        "id": "IRmb6wJvCa1G",
        "outputId": "9df54287-c70c-41f9-da22-77a38df24260"
      },
      "execution_count": null,
      "outputs": [
        {
          "output_type": "display_data",
          "data": {
            "text/plain": [
              "<Figure size 432x288 with 1 Axes>"
            ],
            "image/png": "[encoded data removed]"
          },
          "metadata": {
            "needs_background": "light"
          }
        },
        {
          "output_type": "execute_result",
          "data": {
            "text/plain": [
              "-1.275399341693628e-13"
            ]
          },
          "metadata": {},
          "execution_count": 29
        }
      ]
    },
    {
      "cell_type": "markdown",
      "source": [
        "**4] Checking for Heteroskedasticity**"
      ],
      "metadata": {
        "id": "afFoU3YO6yeJ"
      }
    },
    {
      "cell_type": "code",
      "source": [
        "#Run white's test\n",
        "#H0: variances for errors are equal\n",
        "#H1: variances for errors are ot equal\n",
        "import statsmodels.stats.diagnostic as sm_diagnostic\n",
        "_,pval, _, f_pval=sm_diagnostic.het_white(result.resid,result.model.exog)\n",
        "print(pval, f_pval)"
      ],
      "metadata": {
        "colab": {
          "base_uri": "https://localhost:8080/"
        },
        "id": "UhxCzvlJ6t10",
        "outputId": "7be00d32-c17d-4d6e-a855-17684882c61e"
      },
      "execution_count": null,
      "outputs": [
        {
          "output_type": "stream",
          "name": "stdout",
          "text": [
            "7.279554809166808e-139 4.186251014233026e-144\n"
          ]
        }
      ]
    },
    {
      "cell_type": "markdown",
      "source": [
        "The output for p value shows that the null hypothesis is retained.\n",
        "\n",
        "Conclusion: No heteroskedasticity."
      ],
      "metadata": {
        "id": "vOwAnVTc7ryW"
      }
    },
    {
      "cell_type": "markdown",
      "source": [
        " **5] Checking for autocorrelation**\n",
        "\n",
        "To test autocorrelation , we use statsmodels.stats.diagnostic module and use Ljung - Box test for no autocorrelation of residuals.\n",
        "\n",
        "H0: The data are random.\n",
        "\n",
        "H1: The data are not random.\n",
        "\n",
        "We want the p value that will retain the null hypothesis"
      ],
      "metadata": {
        "id": "ivCBcMCfAYDN"
      }
    },
    {
      "cell_type": "code",
      "source": [
        "#Test for autocorrelation\n",
        "\n",
        "from statsmodels.stats.stattools import durbin_watson\n",
        "# calculate the lag (optional)\n",
        "lag= min(10, len(X)//5)\n",
        "print(\"The number of lags will be{}\".format(lag))\n",
        "print()\n",
        "\n",
        "# run ljung Box test for no autocorrelation of residuals\n",
        "\n",
        "test_results= diag.acorr_ljungbox(result.resid, lags=lag)\n",
        "print(test_results)\n",
        "\n",
        "# grab the p value and test statistics\n",
        "ibvalue, p_val = test_results\n",
        "# print the results of the test\n",
        "if min(p_val)>0.05:\n",
        "  print(\"The lowest p_value found was {:.4}\".format(min(p_val)))\n",
        "  print(\"We fail to reject null hypothesis, there is no autocorrelation\")\n",
        "  print()\n",
        "else:\n",
        "  print(\"The lowest p_value found was {:.4}\".format(min(p_val)))\n",
        "  print(\"We reject null hypothesis, there is autocorrelation\")\n",
        "  print()\n",
        "\n",
        "# plot autocorrelation\n",
        "sm.graphics.tsa.plot_acf(result.resid)\n",
        "plt.show()\n"
      ],
      "metadata": {
        "colab": {
          "base_uri": "https://localhost:8080/",
          "height": 475
        },
        "id": "zihA4rhqAT9H",
        "outputId": "b06cd244-6655-40b6-c8aa-da250c46b691"
      },
      "execution_count": null,
      "outputs": [
        {
          "output_type": "stream",
          "name": "stdout",
          "text": [
            "The number of lags will be10\n",
            "\n",
            "(array([0.2345533 , 0.70251632, 0.71834458, 2.707678  , 3.20378422,\n",
            "       3.55731168, 6.24212493, 7.54936796, 7.995378  , 8.82416406]), array([0.62816799, 0.70380204, 0.86888087, 0.60787173, 0.66860134,\n",
            "       0.73632967, 0.51177941, 0.47867791, 0.53461207, 0.54886853]))\n",
            "The lowest p_value found was 0.4787\n",
            "We fail to reject null hypothesis, there is no autocorrelation\n",
            "\n"
          ]
        },
        {
          "output_type": "stream",
          "name": "stderr",
          "text": [
            "/usr/local/lib/python3.7/dist-packages/statsmodels/stats/diagnostic.py:559: FutureWarning: The value returned will change to a single DataFrame after 0.12 is released.  Set return_df to True to use to return a DataFrame now.  Set return_df to False to silence this warning.\n",
            "  warnings.warn(msg, FutureWarning)\n"
          ]
        },
        {
          "output_type": "display_data",
          "data": {
            "text/plain": [
              "<Figure size 432x288 with 1 Axes>"
            ],
            "image/png": "[encoded data removed]"
          },
          "metadata": {
            "needs_background": "light"
          }
        }
      ]
    },
    {
      "cell_type": "markdown",
      "source": [
        "ACF starts with a lag of 0, which is the correlation of the time series with itself and therefore results in a correlation of 1.\n",
        "\n",
        " Blue area depicts the 95% confidence interval and is an indicator of the significance threshold.\n",
        "\n",
        " That means, anything within the blue area is statistically close to zero and anything outside the blue area is statistically non-zero."
      ],
      "metadata": {
        "id": "BhrBnnXXCbbE"
      }
    },
    {
      "cell_type": "markdown",
      "source": [
        "#**Conclusion:**\n",
        "---\n",
        "All the assumptions of Multiple regression are satisfied\n",
        "\n",
        "Linear relation between temperature and other variable is as follows :\n",
        "\n",
        "Temperature_c=7.4507−(8.1976∗Humidity)−(0.0615∗WindSpeedkmh)+(0.0014∗WindBearingdegrees)+(10.8553∗Description)"
      ],
      "metadata": {
        "id": "YB90M-ULDR3D"
      }
    }
  ]
}